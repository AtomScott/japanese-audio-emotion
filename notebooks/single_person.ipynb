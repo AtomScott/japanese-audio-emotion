{
 "cells": [
  {
   "cell_type": "markdown",
   "metadata": {},
   "source": [
    "# Comparison of different methods to create dataset"
   ]
  },
  {
   "cell_type": "markdown",
   "metadata": {},
   "source": [
    "Import dependencies"
   ]
  },
  {
   "cell_type": "code",
   "execution_count": 1,
   "metadata": {},
   "outputs": [],
   "source": [
    "# Standard Library\n",
    "import os, sys\n",
    "import glob, shutil\n",
    "\n",
    "# PyPI dependencies\n",
    "import cv2\n",
    "import chainercv\n",
    "import imageio\n",
    "\n",
    "import numpy as np\n",
    "import ipywidgets as wgt\n",
    "import matplotlib.pyplot as plt\n",
    "\n",
    "from tqdm import tqdm\n",
    "from time import time\n",
    "from sklearn.manifold import TSNE\n",
    "from sklearn import preprocessing\n",
    "from IPython.display import display\n",
    "from PIL import Image, ImageDraw, ImageFont\n",
    "from cvt.models import SubspaceMethod, KernelMSM\n",
    "\n",
    "# Confirm we are working in the correct directory.\n",
    "path = '/home/atom/emotion/' # change this to the correct path\n",
    "if os.getcwd().split(os.sep)[-1] != 'emotion':\n",
    "    os.chdir(path)\n",
    "assert os.getcwd().split(os.sep)[-1] == 'emotion', 'please set the correct path. Current: {0}'.format(os.getcwd())\n",
    "\n",
    "import atomity\n",
    "\n",
    "# import JVAER tools\n",
    "from JAVER import utils\n",
    "from JAVER import scrape_tools\n",
    "from JAVER import track_tools"
   ]
  },
  {
   "cell_type": "code",
   "execution_count": 2,
   "metadata": {},
   "outputs": [],
   "source": [
    "import JAVER\n",
    "import importlib\n",
    "\n",
    "importlib.reload(JAVER.utils)\n",
    "importlib.reload(JAVER.track_tools)\n",
    "importlib.reload(JAVER.scrape_tools)\n",
    "importlib.reload(JAVER.logger);"
   ]
  },
  {
   "cell_type": "markdown",
   "metadata": {},
   "source": [
    "## Downloading images and videos\n",
    "\n",
    "We download images using the google_images_download package and we download videos using the pytube package.\n",
    "Pytube frequently breaks because of the frequent changes youtube makes and is not very stable. If it suddenly doesn't work I recommend checking their github repo for issues.\n",
    "\n",
    "Estimate time for downloading,\n",
    "\n",
    "- images <2 secs per image\n",
    "- videos <1 min per video\n",
    "\n",
    "I don't think this will become a bottle neck."
   ]
  },
  {
   "cell_type": "code",
   "execution_count": 4,
   "metadata": {},
   "outputs": [
    {
     "name": "stdout",
     "output_type": "stream",
     "text": [
      "Enter Query: Elon Musk\n",
      "Enter number of images to scrape: 80\n"
     ]
    },
    {
     "name": "stderr",
     "output_type": "stream",
     "text": [
      "[2020-02-25 02:44:24,050] \u001b[32mINFO @ line 66: Success: Loaded 80 images.\u001b[0m\n"
     ]
    },
    {
     "name": "stdout",
     "output_type": "stream",
     "text": [
      "Time: 58.03652811050415\n"
     ]
    }
   ],
   "source": [
    "# Choose paths to save data\n",
    "out_dir_path = './notebooks/single_person_results'\n",
    "\n",
    "# Set up save directories\n",
    "dirs1 = ['images', 'videos', 'embeddings', 'cropped_images', 'inliers', 'outliers', 'video_frames', 'new_videos']\n",
    "query = input('Enter Query: ')\n",
    "JAVER.utils.make_save_dirs(out_dir_path, dirs1, [query], overwrite=True)\n",
    "\n",
    "n_images = int(input('Enter number of images to scrape: ')) # Number of images of each person to scrape\n",
    "chromedriver_path = 'JAVER/chromedriver' # path to chromedriver\n",
    "\n",
    "# get_face_images frequently fails to get n_images, it will usually get more than 80%\n",
    "# if there are 0 images found it will recurse and try again.\n",
    "with atomity.timing():\n",
    "    JAVER.scrape_tools.get_face_images(query, n_images, os.path.join(out_dir_path, 'images'), chromedriver_path)"
   ]
  },
  {
   "cell_type": "code",
   "execution_count": 5,
   "metadata": {
    "scrolled": true
   },
   "outputs": [
    {
     "name": "stderr",
     "output_type": "stream",
     "text": [
      "[2020-02-25 02:45:33,473] \u001b[32mINFO @ line 115: Successfully downloaded 1 videos.\u001b[0m\n"
     ]
    },
    {
     "name": "stdout",
     "output_type": "stream",
     "text": [
      "Time: 69.41674709320068\n"
     ]
    }
   ],
   "source": [
    "n_videos = 1 # Number of images of each person to scrape\n",
    "with atomity.timing():\n",
    "    video_paths = JAVER.scrape_tools.get_yt_videos(query, os.path.join(out_dir_path, 'videos'), n_videos)"
   ]
  },
  {
   "cell_type": "code",
   "execution_count": 6,
   "metadata": {},
   "outputs": [
    {
     "data": {
      "application/vnd.jupyter.widget-view+json": {
       "model_id": "dba30d7beaa44b318f8ecb4969f7bd99",
       "version_major": 2,
       "version_minor": 0
      },
      "text/plain": [
       "interactive(children=(Dropdown(description='image_path', options=('./notebooks/single_person_results/images/El…"
      ]
     },
     "metadata": {},
     "output_type": "display_data"
    }
   ],
   "source": [
    "paths = glob.glob('./notebooks/single_person_results/images/Elon Musk/*')\n",
    "atomity.browse_images(paths);"
   ]
  },
  {
   "cell_type": "markdown",
   "metadata": {},
   "source": [
    "## Face detection"
   ]
  },
  {
   "cell_type": "code",
   "execution_count": 7,
   "metadata": {},
   "outputs": [
    {
     "name": "stderr",
     "output_type": "stream",
     "text": [
      "[2020-02-25 02:45:47,318] \u001b[32mINFO @ line 120: using: cuda:0\u001b[0m\n"
     ]
    },
    {
     "name": "stdout",
     "output_type": "stream",
     "text": [
      "Time: 17.700697898864746\n"
     ]
    }
   ],
   "source": [
    "in_paths = glob.glob(r'./notebooks/single_person_results/images/*/*.jpg')\n",
    "out_paths = [p.replace('{0}images{0}'.format(os.sep), '{0}cropped_images{0}'.format(os.sep)) for p in in_paths]\n",
    "\n",
    "with atomity.timing():\n",
    "    _ = utils.crop_faces(in_image_paths=in_paths, out_paths=out_paths)"
   ]
  },
  {
   "cell_type": "code",
   "execution_count": 8,
   "metadata": {},
   "outputs": [
    {
     "data": {
      "application/vnd.jupyter.widget-view+json": {
       "model_id": "cc7e9ae23faf40c49cf7544c7ba841b9",
       "version_major": 2,
       "version_minor": 0
      },
      "text/plain": [
       "interactive(children=(Dropdown(description='image_path', options=('./notebooks/single_person_results/cropped_i…"
      ]
     },
     "metadata": {},
     "output_type": "display_data"
    }
   ],
   "source": [
    "paths = glob.glob('./notebooks/single_person_results/cropped_images/Elon Musk/*')\n",
    "atomity.browse_images(paths);"
   ]
  },
  {
   "cell_type": "markdown",
   "metadata": {},
   "source": [
    "## Face Embedding"
   ]
  },
  {
   "cell_type": "code",
   "execution_count": 9,
   "metadata": {},
   "outputs": [
    {
     "name": "stderr",
     "output_type": "stream",
     "text": [
      "[2020-02-25 02:46:33,300] \u001b[32mINFO @ line 203: using: cuda:0\u001b[0m\n"
     ]
    },
    {
     "name": "stdout",
     "output_type": "stream",
     "text": [
      "Time: 4.5799360275268555\n"
     ]
    }
   ],
   "source": [
    "in_paths = glob.glob(r'./notebooks/single_person_results/cropped_images/*/*.jpg')\n",
    "out_paths = [p.replace('{0}cropped_images{0}'.format(os.sep), '{0}embeddings{0}'.format(os.sep)) for p in in_paths]\n",
    "\n",
    "with atomity.timing():\n",
    "    _ = utils.embed_faces(in_paths, out_paths, return_values=[])"
   ]
  },
  {
   "cell_type": "markdown",
   "metadata": {},
   "source": [
    "## Outlier Detection"
   ]
  },
  {
   "cell_type": "code",
   "execution_count": 10,
   "metadata": {},
   "outputs": [
    {
     "name": "stderr",
     "output_type": "stream",
     "text": [
      "[2020-02-25 02:46:46,446] \u001b[32mINFO @ line 276: 10% are outliers\u001b[0m\n"
     ]
    }
   ],
   "source": [
    "embeddings = np.zeros((0,512))\n",
    "embedding_paths = glob.glob(r'./notebooks/single_person_results/embeddings/{0}/*.npy'.format(query))\n",
    "in_paths = glob.glob(r'./notebooks/single_person_results/cropped_images/{0}/*.jpg'.format(query))\n",
    "assert len(embedding_paths) == len(in_paths)\n",
    "for path in embedding_paths:\n",
    "    embeddings = np.vstack((embeddings, np.load(path)))\n",
    "\n",
    "inlier_idx, outlier_idx = JAVER.utils.detect_outliers(embeddings)\n",
    "\n",
    "for idx in outlier_idx:\n",
    "    shutil.copyfile(in_paths[idx], in_paths[idx].replace('cropped_images', 'outliers'))\n",
    "    os.remove(embedding_paths[idx])# remove outlying embeddings\n",
    "\n",
    "for idx in inlier_idx:\n",
    "    shutil.copyfile(in_paths[idx], in_paths[idx].replace('cropped_images', 'inliers'))"
   ]
  },
  {
   "cell_type": "code",
   "execution_count": 11,
   "metadata": {},
   "outputs": [
    {
     "data": {
      "application/vnd.jupyter.widget-view+json": {
       "model_id": "97b8640663384b75a54fb12e6bf2b917",
       "version_major": 2,
       "version_minor": 0
      },
      "text/plain": [
       "interactive(children=(Dropdown(description='image_path', options=('./notebooks/single_person_results/inliers/E…"
      ]
     },
     "metadata": {},
     "output_type": "display_data"
    }
   ],
   "source": [
    "paths = glob.glob('./notebooks/single_person_results/inliers/Elon Musk/*')\n",
    "atomity.browse_images(paths);"
   ]
  },
  {
   "cell_type": "code",
   "execution_count": 12,
   "metadata": {},
   "outputs": [
    {
     "data": {
      "application/vnd.jupyter.widget-view+json": {
       "model_id": "63ecc41f629b45d0b0dec6c5377cee9d",
       "version_major": 2,
       "version_minor": 0
      },
      "text/plain": [
       "interactive(children=(Dropdown(description='image_path', options=('./notebooks/single_person_results/outliers/…"
      ]
     },
     "metadata": {},
     "output_type": "display_data"
    }
   ],
   "source": [
    "paths = glob.glob('./notebooks/single_person_results/outliers/Elon Musk/*')\n",
    "atomity.browse_images(paths);"
   ]
  },
  {
   "cell_type": "markdown",
   "metadata": {},
   "source": [
    "## Facial Tracking"
   ]
  },
  {
   "cell_type": "code",
   "execution_count": 13,
   "metadata": {},
   "outputs": [],
   "source": [
    "def format_input(X, y):\n",
    "    X = [X[np.where(y==t)] for t in np.unique(y)]\n",
    "    return X, np.unique(y)\n",
    "\n",
    "in_paths = glob.glob(r'./notebooks/single_person_results/embeddings/*/*.npy')"
   ]
  },
  {
   "cell_type": "code",
   "execution_count": 14,
   "metadata": {
    "collapsed": true,
    "jupyter": {
     "outputs_hidden": true
    },
    "scrolled": true
   },
   "outputs": [],
   "source": [
    "# load reference face\n",
    "x, y = np.zeros((0,512)), []\n",
    "for path in in_paths:\n",
    "    label = 1 if os.path.basename(os.path.dirname(path)) == query else 0\n",
    "    x = np.vstack((x, np.load(path)))\n",
    "    y.append(label)\n",
    "\n",
    "# use SM for face matching\n",
    "SM = SubspaceMethod(n_subdims=5)\n",
    "SM.fit(*format_input(x, y))"
   ]
  },
  {
   "cell_type": "code",
   "execution_count": 4,
   "metadata": {},
   "outputs": [
    {
     "data": {
      "image/png": "[encoded data removed]",
      "text/plain": [
       "<PIL.Image.Image image mode=RGB size=640x360 at 0x7F5D86B42B80>"
      ]
     },
     "metadata": {},
     "output_type": "display_data"
    }
   ],
   "source": [
    "video_path = './notebooks/single_person_results/videos/Elon Musk/0.mp4'\n",
    "video = imageio.get_reader(video_path,  'ffmpeg') # fails sometimes ? \n",
    "n_frames = video.count_frames()\n",
    "\n",
    "@wgt.interact(Frame=range(1, n_frames, 10000))\n",
    "def peek_video(Frame):\n",
    "    display(Image.fromarray(video.get_data(Frame)))"
   ]
  },
  {
   "cell_type": "code",
   "execution_count": 52,
   "metadata": {},
   "outputs": [],
   "source": [
    "import JAVER\n",
    "import importlib\n",
    "\n",
    "importlib.reload(JAVER.utils)\n",
    "importlib.reload(JAVER.track_tools)\n",
    "importlib.reload(JAVER.scrape_tools)\n",
    "importlib.reload(JAVER.logger);"
   ]
  },
  {
   "cell_type": "code",
   "execution_count": 53,
   "metadata": {},
   "outputs": [],
   "source": [
    "face_tracker = track_tools.FaceTracker(\n",
    "    image_size=160,\n",
    "    video_path = video_path,\n",
    "    batch_size=100,\n",
    "    step=100,\n",
    ")"
   ]
  },
  {
   "cell_type": "code",
   "execution_count": null,
   "metadata": {},
   "outputs": [
    {
     "name": "stderr",
     "output_type": "stream",
     "text": [
      "  3%|▎         | 13300/387094 [15:25<7:13:18, 14.38it/s]\n",
      "  0%|          | 0/387094 [18:51<?, ?it/s]\n",
      "  0%|          | 0/387094 [05:01<?, ?it/s]\n",
      "  0%|          | 1300/387094 [02:23<11:52:02,  9.03it/s]"
     ]
    }
   ],
   "source": [
    "tqdm._instances.clear()\n",
    "\n",
    "face_tracker.track()"
   ]
  },
  {
   "cell_type": "code",
   "execution_count": 129,
   "metadata": {},
   "outputs": [
    {
     "name": "stderr",
     "output_type": "stream",
     "text": [
      "  0%|          | 250/387094 [04:10<107:48:06,  1.00s/it]\n"
     ]
    },
    {
     "name": "stdout",
     "output_type": "stream",
     "text": [
      "[list([None]) list([None]) list([None]) list([None]) list([None])\n",
      " list([None]) list([None]) list([None]) list([None]) list([None])\n",
      " list([None]) list([None]) list([None]) list([None]) list([None])\n",
      " list([None]) list([None]) list([None]) list([None]) list([None])\n",
      " list([None]) list([None]) list([None]) list([None]) list([None])\n",
      " list([None]) list([None]) list([None]) list([None]) list([None])\n",
      " list([None]) list([None]) list([None]) list([None]) list([None])\n",
      " list([None]) list([None]) list([None]) list([None]) list([None])\n",
      " array([0.99999177, 0.99999785, 0.99998164, 0.99998212])\n",
      " array([0.99999058, 0.99999189, 0.9998399 , 0.99996197])\n",
      " array([0.99994087, 0.99989474, 0.99999607, 0.99997568])\n",
      " array([0.99999726, 0.99955624, 0.99999321])\n",
      " array([0.99999738, 0.99902189, 0.99697638])\n",
      " array([0.99994922, 0.99999678, 0.99896228, 0.99929273])\n",
      " array([0.99997652, 0.99999356, 0.99989593, 0.99935764])\n",
      " array([0.99997079, 0.9991309 , 0.99745721, 0.99999332])\n",
      " array([0.99999082, 0.99936146])\n",
      " array([0.99999416, 0.99998271, 0.99970478, 0.99877435])\n",
      " array([0.9999975 , 0.99998987, 0.99943727, 0.99962378])\n",
      " array([0.99999321, 0.99985349, 0.9984861 , 0.99999678])\n",
      " array([0.99994433, 0.99981791, 0.99999487])\n",
      " array([0.99999666, 0.99987292, 0.99957508])\n",
      " array([0.99999464, 0.99998081, 0.9995901 , 0.99975055])\n",
      " array([0.99999774, 0.99999547, 0.99948078, 0.99984789]) list([None])\n",
      " list([None]) list([None]) list([None]) list([None]) list([None])\n",
      " list([None]) list([None]) list([None]) list([None]) list([None])\n",
      " list([None]) list([None]) list([None]) list([None]) list([None])\n",
      " list([None]) list([None]) list([None]) list([None]) list([None])\n",
      " list([None]) list([None]) list([None]) list([None]) list([None])\n",
      " list([None]) list([None]) list([None]) list([None]) list([None])\n",
      " list([None]) list([None]) list([None]) list([None]) list([None])\n",
      " list([None]) list([None]) list([None]) list([None]) list([None])\n",
      " list([None]) list([None]) list([None])]\n"
     ]
    },
    {
     "name": "stderr",
     "output_type": "stream",
     "text": [
      "  0%|          | 200/387094 [00:13<13:37:46,  7.89it/s]"
     ]
    }
   ],
   "source": [
    "tqdm._instances.clear()\n",
    "\n",
    "# init loop\n",
    "vid.set_image_index(0)\n",
    "\n",
    "batch_size = 100\n",
    "image_batch = []\n",
    "\n",
    "# loop video framesa\n",
    "for i in tqdm(range(0, n_frames, batch_size), total=n_frames):   \n",
    "    \n",
    "    image = vid.get_next_data()\n",
    "    if i % batch_size == 0:\n",
    "        image_batch.append(image)\n",
    "\n",
    "    if len(image_batch) == batch_size:\n",
    "        boxes, probs = track_tools.mtcnn(images=image_batch)\n",
    "        \n",
    "        if l := probs.co:\n",
    "            print(probs)\n",
    "            break\n",
    "        image_batch = []\n",
    "        \n",
    "    for _ in range(batch_size):\n",
    "        pass\n",
    "    \n",
    "    pass\n",
    "\n",
    "#         image = Image.fromarray(im)\n",
    "#         ret_dict = utils.crop_faces(images=[image], return_values=['bboxes', 'rois'])\n",
    "        \n",
    "#         bboxes = ret_dict['bboxes']\n",
    "#         rois = ret_dict['rois']\n",
    "#         embeddings = utils.embed_faces(images=rois, return_values='embeddings')['embeddings']\n",
    "#         assert len(bboxes) == len(embeddings)\n",
    "\n",
    "#         draw = ImageDraw.Draw(image)\n",
    "\n",
    "#         for n in range(len(bboxes)):\n",
    "            \n",
    "#             bbox = bboxes[n]\n",
    "#             x1,y1,x2,y2 =bboggggggggggggggggggggx\n",
    "#             roi = rois[n]\n",
    "#             embedding = embeddings[n]\n",
    "\n",
    "#             proba = SM.predict_proba(embedding).squeeze()\n",
    "#             text = 'proba: {0}\\n {1}'.format(proba, 'Elon' if proba >= 0.7 else 'Not Elon')\n",
    "#             font = ImageFont.truetype(\"/usr/share/fonts/truetype/freefont/FreeMono.ttf\", 18, encoding=\"unic\")\n",
    "\n",
    "#             rect = (x1, y1, x1, y2, x2, y2, x2,y1, x1, y1)\n",
    "#             draw.line(rect, width=5, fill='Red')\n",
    "#             draw.text(xy=(x1, y1), text=text, fill='white', font=font)\n",
    "            \n",
    "#         image.save('./notebooks/single_person_results/video_frames/Elon Musk/' +str(i).zfill(6)+ \".png\", \"png\")"
   ]
  },
  {
   "cell_type": "code",
   "execution_count": null,
   "metadata": {},
   "outputs": [],
   "source": [
    "#         vid_writer.write(np.asarray(image))\n",
    "#     if i!=0 and i % 1000 == 0:\n",
    "#         break\n",
    "# vid_writer.release()\n",
    "\n",
    "\n",
    "#                 if prev_bbox is None:\n",
    "#                     if len(embeddings) == 1:\n",
    "                        \n",
    "#                         if SM.predict(embeddings):\n",
    "#                             text = 'proba: {0}, {1}'.format(proba, 'Elon' if proba < 0.8 else 'Not Elon')\n",
    "#                     else:\n",
    "#                         continue                \n",
    "#                 else:                \n",
    "#                     candidate_idx = np.where(SM.predict(embeddings)==1)\n",
    "#                     candidate_rois = rois[candidate_idx]\n",
    "#                     candidate_bboxes = bboxes[candidate_idx]\n",
    "#                     print(candidate_bboxes)\n",
    "\n",
    "            # TODO Add chunk to list\n",
    "#             print('Mean of frame {0} is {1}, {2}, {3}'.format(i, im.mean(), type(im), im.shape))\n",
    "\n",
    "            # TODO: face detection\n",
    "            # Get list of all face bboxes in one frame\n",
    "#             \n",
    "\n",
    "            # TODO: Association with IoU and Embeddings\n",
    "\n",
    "\n",
    "            # TODO Add chunk to list\n",
    "\n",
    "        # TODO split vid to chunks\n"
   ]
  },
  {
   "cell_type": "code",
   "execution_count": 23,
   "metadata": {},
   "outputs": [
    {
     "name": "stderr",
     "output_type": "stream",
     "text": [
      "\n",
      "  0%|          | 0/2456 [00:00<?, ?it/s]\u001b[A\n",
      "  1%|          | 16/2456 [00:00<00:16, 151.61it/s]\u001b[A\n",
      "  1%|          | 29/2456 [00:00<00:17, 140.94it/s]\u001b[A\n",
      "  2%|▏         | 41/2456 [00:00<00:18, 132.38it/s]\u001b[A\n",
      "  2%|▏         | 51/2456 [00:00<00:20, 118.44it/s]\u001b[A\n",
      "  3%|▎         | 63/2456 [00:00<00:20, 116.56it/s]\u001b[A\n",
      "  3%|▎         | 75/2456 [00:00<00:20, 115.21it/s]\u001b[A\n",
      "  4%|▎         | 87/2456 [00:00<00:20, 114.13it/s]\u001b[A\n",
      "  4%|▍         | 99/2456 [00:00<00:20, 113.35it/s]\u001b[A\n",
      "  4%|▍         | 110/2456 [00:00<00:20, 111.88it/s]\u001b[A\n",
      "  5%|▍         | 121/2456 [00:01<00:21, 110.98it/s]\u001b[A\n",
      "  5%|▌         | 132/2456 [00:01<00:21, 107.80it/s]\u001b[A\n",
      "  6%|▌         | 143/2456 [00:01<00:21, 107.25it/s]\u001b[A\n",
      "  6%|▋         | 154/2456 [00:01<00:22, 104.47it/s]\u001b[A\n",
      "  7%|▋         | 165/2456 [00:01<00:22, 103.57it/s]\u001b[A\n",
      "  7%|▋         | 176/2456 [00:01<00:21, 103.80it/s]\u001b[A\n",
      "  8%|▊         | 187/2456 [00:01<00:21, 105.11it/s]\u001b[A\n",
      "  8%|▊         | 199/2456 [00:01<00:21, 107.45it/s]\u001b[A\n",
      "  9%|▊         | 211/2456 [00:01<00:20, 108.96it/s]\u001b[A\n",
      "  9%|▉         | 223/2456 [00:02<00:20, 109.80it/s]\u001b[A\n",
      " 10%|▉         | 234/2456 [00:02<00:20, 108.59it/s]\u001b[A\n",
      " 10%|█         | 247/2456 [00:02<00:19, 112.94it/s]\u001b[A\n",
      " 11%|█         | 260/2456 [00:02<00:18, 115.61it/s]\u001b[A\n",
      " 11%|█         | 272/2456 [00:02<00:19, 110.25it/s]\u001b[A\n",
      " 12%|█▏        | 284/2456 [00:02<00:20, 103.89it/s]\u001b[A\n",
      " 12%|█▏        | 295/2456 [00:02<00:21, 101.49it/s]\u001b[A\n",
      " 12%|█▏        | 306/2456 [00:02<00:21, 100.37it/s]\u001b[A\n",
      " 13%|█▎        | 317/2456 [00:02<00:21, 100.45it/s]\u001b[A\n",
      " 13%|█▎        | 328/2456 [00:03<00:21, 100.71it/s]\u001b[A\n",
      " 14%|█▍        | 339/2456 [00:03<00:21, 100.05it/s]\u001b[A\n",
      " 14%|█▍        | 350/2456 [00:03<00:20, 100.56it/s]\u001b[A\n",
      " 15%|█▍        | 361/2456 [00:03<00:20, 100.20it/s]\u001b[A\n",
      " 15%|█▌        | 372/2456 [00:03<00:21, 99.17it/s] \u001b[A\n",
      " 16%|█▌        | 382/2456 [00:03<00:21, 98.65it/s]\u001b[A\n",
      " 16%|█▌        | 392/2456 [00:03<00:21, 97.33it/s]\u001b[A\n",
      " 16%|█▋        | 402/2456 [00:03<00:21, 96.42it/s]\u001b[A\n",
      " 17%|█▋        | 412/2456 [00:03<00:21, 96.31it/s]\u001b[A\n",
      " 17%|█▋        | 426/2456 [00:03<00:19, 105.55it/s]\u001b[A\n",
      " 18%|█▊        | 438/2456 [00:04<00:18, 109.29it/s]\u001b[A\n",
      " 18%|█▊        | 450/2456 [00:04<00:18, 109.93it/s]\u001b[A\n",
      " 19%|█▉        | 462/2456 [00:04<00:18, 110.25it/s]\u001b[A\n",
      " 19%|█▉        | 474/2456 [00:04<00:18, 109.90it/s]\u001b[A\n",
      " 20%|█▉        | 486/2456 [00:04<00:18, 109.39it/s]\u001b[A\n",
      " 20%|██        | 497/2456 [00:04<00:18, 105.97it/s]\u001b[A\n",
      " 21%|██        | 508/2456 [00:04<00:18, 105.57it/s]\u001b[A\n",
      " 21%|██        | 519/2456 [00:04<00:18, 105.83it/s]\u001b[A\n",
      " 22%|██▏       | 530/2456 [00:04<00:18, 105.44it/s]\u001b[A\n",
      " 22%|██▏       | 541/2456 [00:05<00:18, 104.75it/s]\u001b[A\n",
      " 22%|██▏       | 552/2456 [00:05<00:18, 104.10it/s]\u001b[A\n",
      " 23%|██▎       | 563/2456 [00:05<00:18, 101.65it/s]\u001b[A\n",
      " 23%|██▎       | 574/2456 [00:05<00:18, 101.03it/s]\u001b[A\n",
      " 24%|██▍       | 585/2456 [00:05<00:18, 101.17it/s]\u001b[A\n",
      " 24%|██▍       | 598/2456 [00:05<00:17, 108.34it/s]\u001b[A\n",
      " 25%|██▍       | 609/2456 [00:05<00:17, 107.97it/s]\u001b[A\n",
      " 25%|██▌       | 620/2456 [00:05<00:17, 105.54it/s]\u001b[A\n",
      " 26%|██▌       | 631/2456 [00:05<00:17, 103.68it/s]\u001b[A\n",
      " 26%|██▌       | 642/2456 [00:06<00:17, 102.54it/s]\u001b[A\n",
      " 61%|██████    | 1500/2456 [00:29<00:08, 118.60it/s][A\n",
      " 27%|██▋       | 664/2456 [00:06<00:18, 98.41it/s] \u001b[A\n",
      " 27%|██▋       | 674/2456 [00:06<00:18, 97.20it/s]\u001b[A\n",
      " 28%|██▊       | 684/2456 [00:06<00:18, 96.78it/s]\u001b[A\n",
      " 28%|██▊       | 694/2456 [00:06<00:18, 95.86it/s]\u001b[A\n",
      " 29%|██▊       | 704/2456 [00:06<00:18, 96.23it/s]\u001b[A\n",
      " 29%|██▉       | 714/2456 [00:06<00:18, 96.48it/s]\u001b[A\n",
      " 29%|██▉       | 724/2456 [00:06<00:17, 96.51it/s]\u001b[A\n",
      " 30%|██▉       | 734/2456 [00:06<00:17, 96.42it/s]\u001b[A\n",
      " 30%|███       | 744/2456 [00:07<00:17, 95.44it/s]\u001b[A\n",
      " 31%|███       | 760/2456 [00:07<00:15, 106.20it/s]\u001b[A\n",
      " 32%|███▏      | 775/2456 [00:07<00:14, 115.16it/s]\u001b[A\n",
      " 32%|███▏      | 793/2456 [00:07<00:12, 128.24it/s]\u001b[A\n",
      " 33%|███▎      | 812/2456 [00:07<00:11, 139.99it/s]\u001b[A\n",
      " 34%|███▍      | 830/2456 [00:07<00:10, 149.92it/s]\u001b[A\n",
      " 35%|███▍      | 848/2456 [00:07<00:10, 157.47it/s]\u001b[A\n",
      " 35%|███▌      | 865/2456 [00:07<00:09, 159.89it/s]\u001b[A\n",
      " 36%|███▌      | 882/2456 [00:07<00:09, 159.41it/s]\u001b[A\n",
      " 37%|███▋      | 899/2456 [00:08<00:10, 147.51it/s]\u001b[A\n",
      " 37%|███▋      | 915/2456 [00:08<00:11, 134.98it/s]\u001b[A\n",
      " 38%|███▊      | 929/2456 [00:08<00:11, 128.76it/s]\u001b[A\n",
      " 38%|███▊      | 943/2456 [00:08<00:12, 122.07it/s]\u001b[A\n",
      " 39%|███▉      | 956/2456 [00:08<00:12, 118.58it/s]\u001b[A\n",
      " 39%|███▉      | 969/2456 [00:08<00:12, 118.89it/s]\u001b[A\n",
      " 40%|███▉      | 982/2456 [00:08<00:12, 120.14it/s]\u001b[A\n",
      " 41%|████      | 996/2456 [00:08<00:11, 122.96it/s]\u001b[A\n",
      " 41%|████      | 1009/2456 [00:09<00:11, 122.08it/s]\u001b[A\n",
      " 42%|████▏     | 1022/2456 [00:09<00:11, 123.22it/s]\u001b[A\n",
      " 42%|████▏     | 1035/2456 [00:09<00:11, 118.68it/s]\u001b[A\n",
      " 43%|████▎     | 1047/2456 [00:09<00:12, 114.96it/s]\u001b[A\n",
      " 43%|████▎     | 1059/2456 [00:09<00:12, 112.03it/s]\u001b[A\n",
      " 44%|████▎     | 1071/2456 [00:09<00:12, 110.87it/s]\u001b[A\n",
      " 44%|████▍     | 1083/2456 [00:09<00:12, 109.94it/s]\u001b[A\n",
      " 45%|████▍     | 1095/2456 [00:09<00:12, 107.97it/s]\u001b[A\n",
      " 45%|████▌     | 1107/2456 [00:09<00:12, 109.85it/s]\u001b[A\n",
      " 46%|████▌     | 1119/2456 [00:10<00:11, 111.61it/s]\u001b[A\n",
      " 46%|████▌     | 1131/2456 [00:10<00:11, 112.75it/s]\u001b[A\n",
      " 47%|████▋     | 1143/2456 [00:10<00:11, 111.50it/s]\u001b[A\n",
      " 47%|████▋     | 1155/2456 [00:10<00:11, 111.57it/s]\u001b[A\n",
      " 48%|████▊     | 1167/2456 [00:10<00:11, 113.57it/s]\u001b[A\n",
      " 48%|████▊     | 1180/2456 [00:10<00:10, 116.52it/s]\u001b[A\n",
      " 49%|████▊     | 1194/2456 [00:10<00:10, 120.63it/s]\u001b[A\n",
      " 49%|████▉     | 1208/2456 [00:10<00:10, 123.57it/s]\u001b[A\n",
      " 50%|████▉     | 1221/2456 [00:10<00:10, 122.82it/s]\u001b[A\n",
      " 50%|█████     | 1234/2456 [00:10<00:10, 120.57it/s]\u001b[A\n",
      " 51%|█████     | 1247/2456 [00:11<00:10, 117.87it/s]\u001b[A\n",
      " 51%|█████▏    | 1259/2456 [00:11<00:10, 115.81it/s]\u001b[A\n",
      " 52%|█████▏    | 1271/2456 [00:11<00:10, 112.41it/s]\u001b[A\n",
      " 52%|█████▏    | 1283/2456 [00:11<00:10, 110.95it/s]\u001b[A\n",
      " 53%|█████▎    | 1296/2456 [00:11<00:10, 115.86it/s]\u001b[A\n",
      " 53%|█████▎    | 1310/2456 [00:11<00:09, 120.18it/s]\u001b[A\n",
      " 54%|█████▍    | 1323/2456 [00:11<00:09, 118.22it/s]\u001b[A\n",
      " 54%|█████▍    | 1335/2456 [00:11<00:09, 114.08it/s]\u001b[A\n",
      " 55%|█████▍    | 1347/2456 [00:11<00:09, 112.95it/s]\u001b[A\n",
      " 55%|█████▌    | 1359/2456 [00:12<00:09, 109.85it/s]\u001b[A\n",
      " 56%|█████▌    | 1371/2456 [00:12<00:10, 107.83it/s]\u001b[A\n",
      " 56%|█████▋    | 1382/2456 [00:12<00:10, 106.16it/s]\u001b[A\n",
      " 57%|█████▋    | 1396/2456 [00:12<00:09, 114.28it/s]\u001b[A\n",
      " 57%|█████▋    | 1410/2456 [00:12<00:08, 120.07it/s]\u001b[A\n",
      " 58%|█████▊    | 1423/2456 [00:12<00:08, 121.22it/s]\u001b[A\n",
      " 58%|█████▊    | 1436/2456 [00:12<00:08, 120.84it/s]\u001b[A\n",
      " 59%|█████▉    | 1449/2456 [00:12<00:08, 119.75it/s]\u001b[A\n",
      " 60%|█████▉    | 1462/2456 [00:12<00:08, 117.85it/s]\u001b[A\n",
      " 60%|██████    | 1474/2456 [00:13<00:08, 115.87it/s]\u001b[A\n",
      " 61%|██████    | 1486/2456 [00:13<00:08, 115.38it/s]\u001b[A\n",
      " 61%|██████    | 1498/2456 [00:13<00:08, 115.37it/s]\u001b[A\n",
      " 62%|██████▏   | 1511/2456 [00:13<00:08, 118.02it/s]\u001b[A\n",
      " 62%|██████▏   | 1524/2456 [00:13<00:07, 119.21it/s]\u001b[A\n",
      " 63%|██████▎   | 1536/2456 [00:13<00:07, 117.62it/s]\u001b[A\n",
      " 63%|██████▎   | 1548/2456 [00:13<00:07, 117.03it/s]\u001b[A\n",
      " 64%|██████▎   | 1560/2456 [00:13<00:07, 116.05it/s]\u001b[A\n",
      " 64%|██████▍   | 1572/2456 [00:13<00:07, 115.19it/s]\u001b[A\n",
      " 64%|██████▍   | 1584/2456 [00:13<00:07, 114.46it/s]\u001b[A\n",
      " 65%|██████▍   | 1596/2456 [00:14<00:07, 113.97it/s]\u001b[A\n",
      " 65%|██████▌   | 1608/2456 [00:14<00:07, 114.38it/s]\u001b[A\n",
      " 66%|██████▌   | 1620/2456 [00:14<00:07, 115.01it/s]\u001b[A\n",
      " 66%|██████▋   | 1632/2456 [00:14<00:07, 115.35it/s]\u001b[A\n",
      " 67%|██████▋   | 1644/2456 [00:14<00:07, 115.79it/s]\u001b[A\n",
      " 67%|██████▋   | 1656/2456 [00:14<00:06, 115.91it/s]\u001b[A\n",
      " 68%|██████▊   | 1668/2456 [00:14<00:06, 114.23it/s]\u001b[A\n",
      " 68%|██████▊   | 1680/2456 [00:14<00:06, 111.38it/s]\u001b[A\n",
      " 69%|██████▉   | 1692/2456 [00:14<00:06, 109.17it/s]\u001b[A\n",
      " 69%|██████▉   | 1703/2456 [00:15<00:06, 107.60it/s]\u001b[A\n",
      " 70%|██████▉   | 1714/2456 [00:15<00:06, 106.44it/s]\u001b[A\n",
      " 70%|███████   | 1725/2456 [00:15<00:06, 105.57it/s]\u001b[A\n",
      " 71%|███████   | 1738/2456 [00:15<00:06, 110.85it/s]\u001b[A\n",
      " 71%|███████▏  | 1751/2456 [00:15<00:06, 114.92it/s]\u001b[A\n",
      " 72%|███████▏  | 1764/2456 [00:15<00:05, 118.78it/s]\u001b[A\n",
      " 72%|███████▏  | 1778/2456 [00:15<00:05, 122.08it/s]\u001b[A\n",
      " 73%|███████▎  | 1792/2456 [00:15<00:05, 124.55it/s]\u001b[A\n",
      " 74%|███████▎  | 1806/2456 [00:15<00:05, 126.12it/s]\u001b[A\n",
      " 74%|███████▍  | 1819/2456 [00:16<00:05, 125.71it/s]\u001b[A\n",
      " 75%|███████▍  | 1832/2456 [00:16<00:04, 124.87it/s]\u001b[A\n",
      " 75%|███████▌  | 1845/2456 [00:16<00:04, 123.69it/s]\u001b[A\n",
      " 76%|███████▌  | 1858/2456 [00:16<00:04, 123.25it/s]\u001b[A\n",
      " 76%|███████▌  | 1871/2456 [00:16<00:04, 123.45it/s]\u001b[A\n",
      " 77%|███████▋  | 1884/2456 [00:16<00:04, 123.56it/s]\u001b[A\n",
      " 77%|███████▋  | 1897/2456 [00:16<00:04, 121.51it/s]\u001b[A\n",
      " 78%|███████▊  | 1910/2456 [00:16<00:04, 118.99it/s]\u001b[A\n",
      " 78%|███████▊  | 1922/2456 [00:16<00:04, 116.88it/s]\u001b[A\n",
      " 79%|███████▊  | 1934/2456 [00:16<00:04, 115.40it/s]\u001b[A\n",
      " 79%|███████▉  | 1946/2456 [00:17<00:04, 114.17it/s]\u001b[A\n",
      " 80%|███████▉  | 1958/2456 [00:17<00:04, 112.92it/s]\u001b[A\n",
      " 80%|████████  | 1970/2456 [00:17<00:04, 111.23it/s]\u001b[A\n",
      " 81%|████████  | 1982/2456 [00:17<00:04, 110.15it/s]\u001b[A\n",
      " 81%|████████  | 1994/2456 [00:17<00:04, 112.00it/s]\u001b[A\n",
      " 82%|████████▏ | 2006/2456 [00:17<00:03, 113.67it/s]\u001b[A\n",
      " 82%|████████▏ | 2018/2456 [00:17<00:03, 115.43it/s]\u001b[A\n",
      " 83%|████████▎ | 2030/2456 [00:17<00:03, 114.35it/s]\u001b[A\n",
      " 83%|████████▎ | 2042/2456 [00:17<00:03, 114.92it/s]\u001b[A\n",
      " 84%|████████▎ | 2054/2456 [00:18<00:03, 111.43it/s]\u001b[A\n",
      " 84%|████████▍ | 2066/2456 [00:18<00:03, 108.67it/s]\u001b[A\n",
      " 85%|████████▍ | 2077/2456 [00:18<00:03, 106.99it/s]\u001b[A\n",
      " 85%|████████▌ | 2088/2456 [00:18<00:03, 105.62it/s]\u001b[A\n",
      " 85%|████████▌ | 2099/2456 [00:18<00:03, 103.62it/s]\u001b[A\n",
      " 86%|████████▌ | 2110/2456 [00:18<00:03, 101.89it/s]\u001b[A\n",
      " 86%|████████▋ | 2121/2456 [00:18<00:03, 100.55it/s]\u001b[A\n",
      " 87%|████████▋ | 2132/2456 [00:18<00:03, 99.40it/s] \u001b[A\n",
      " 87%|████████▋ | 2143/2456 [00:18<00:03, 101.22it/s]\u001b[A\n",
      " 88%|████████▊ | 2154/2456 [00:19<00:02, 102.19it/s]\u001b[A\n",
      " 88%|████████▊ | 2165/2456 [00:19<00:02, 102.97it/s]\u001b[A\n",
      " 89%|████████▊ | 2176/2456 [00:19<00:02, 103.43it/s]\u001b[A\n",
      " 89%|████████▉ | 2187/2456 [00:19<00:02, 103.67it/s]\u001b[A\n",
      " 90%|████████▉ | 2199/2456 [00:19<00:02, 107.46it/s]\u001b[A\n",
      " 90%|█████████ | 2212/2456 [00:19<00:02, 111.41it/s]\u001b[A\n",
      " 91%|█████████ | 2225/2456 [00:19<00:02, 115.49it/s]\u001b[A\n",
      " 91%|█████████ | 2239/2456 [00:19<00:01, 120.93it/s]\u001b[A\n",
      " 92%|█████████▏| 2257/2456 [00:19<00:01, 133.86it/s]\u001b[A\n",
      " 93%|█████████▎| 2275/2456 [00:19<00:01, 144.85it/s]\u001b[A\n",
      " 93%|█████████▎| 2294/2456 [00:20<00:01, 152.84it/s]\u001b[A\n",
      " 94%|█████████▍| 2310/2456 [00:20<00:01, 139.77it/s]\u001b[A\n",
      " 95%|█████████▍| 2325/2456 [00:20<00:00, 131.17it/s]\u001b[A\n",
      " 95%|█████████▌| 2339/2456 [00:20<00:00, 125.07it/s]\u001b[A\n",
      " 96%|█████████▌| 2352/2456 [00:20<00:00, 121.57it/s]\u001b[A\n",
      " 96%|█████████▋| 2365/2456 [00:20<00:00, 118.70it/s]\u001b[A\n",
      " 97%|█████████▋| 2378/2456 [00:20<00:00, 113.46it/s]\u001b[A\n",
      " 97%|█████████▋| 2390/2456 [00:20<00:00, 109.29it/s]\u001b[A\n",
      " 98%|█████████▊| 2402/2456 [00:21<00:00, 106.46it/s]\u001b[A\n",
      " 98%|█████████▊| 2413/2456 [00:21<00:00, 104.53it/s]\u001b[A\n",
      " 99%|█████████▊| 2424/2456 [00:21<00:00, 104.63it/s]\u001b[A\n",
      " 99%|█████████▉| 2435/2456 [00:21<00:00, 104.57it/s]\u001b[A\n",
      "100%|██████████| 2456/2456 [00:21<00:00, 113.67it/s]\u001b[A\n"
     ]
    }
   ],
   "source": [
    "image_folder = './notebooks/single_person_results/video_frames/Elon Musk'\n",
    "video_name = './notebooks/single_person_results/movie.avi'\n",
    "\n",
    "images = sorted([img for img in os.listdir(image_folder) if img.endswith(\".png\")])\n",
    "frame = cv2.imread(os.path.join(image_folder, images[0]))\n",
    "height, width, layers = frame.shape\n",
    "\n",
    "fourcc = cv2.VideoWriter_fourcc(*'mp4v')\n",
    "video = cv2.VideoWriter(video_name, fourcc, 25, (width,height))\n",
    "\n",
    "for i in tqdm(range(len(images))):\n",
    "    image = images[i]\n",
    "    video.write(cv2.imread(os.path.join(image_folder, image)))\n",
    "\n",
    "cv2.destroyAllWindows()\n",
    "video.release()"
   ]
  },
  {
   "cell_type": "code",
   "execution_count": 29,
   "metadata": {},
   "outputs": [
    {
     "data": {
      "application/vnd.jupyter.widget-view+json": {
       "model_id": "b54d58ea36314b15a434f8e93c20cb9d",
       "version_major": 2,
       "version_minor": 0
      },
      "text/plain": [
       "interactive(children=(Dropdown(description='image_path', options=(), value=None), Output()), _dom_classes=('wi…"
      ]
     },
     "metadata": {},
     "output_type": "display_data"
    }
   ],
   "source": [
    "paths = glob.glob('./notebooks/single_person_results/new_vid_frames/Elon Musk/*')\n",
    "atomity.browse_images(paths);"
   ]
  },
  {
   "cell_type": "code",
   "execution_count": null,
   "metadata": {},
   "outputs": [],
   "source": []
  }
 ],
 "metadata": {
  "kernelspec": {
   "display_name": "Python 3",
   "language": "python",
   "name": "python3"
  },
  "language_info": {
   "codemirror_mode": {
    "name": "ipython",
    "version": 3
   },
   "file_extension": ".py",
   "mimetype": "text/x-python",
   "name": "python",
   "nbconvert_exporter": "python",
   "pygments_lexer": "ipython3",
   "version": "3.8.1"
  }
 },
 "nbformat": 4,
 "nbformat_minor": 4
}
