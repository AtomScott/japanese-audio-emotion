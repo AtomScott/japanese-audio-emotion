{
 "cells": [
  {
   "cell_type": "markdown",
   "metadata": {},
   "source": [
    "# Comparison of different methods to create dataset"
   ]
  },
  {
   "cell_type": "markdown",
   "metadata": {},
   "source": [
    "Import dependencies"
   ]
  },
  {
   "cell_type": "code",
   "execution_count": 1,
   "metadata": {},
   "outputs": [],
   "source": [
    "# Standard Library\n",
    "import os, sys\n",
    "import glob, shutil\n",
    "\n",
    "# PyPI dependencies\n",
    "import cv2\n",
    "import chainercv\n",
    "import imageio\n",
    "\n",
    "import numpy as np\n",
    "import ipywidgets as wgt\n",
    "import matplotlib.pyplot as plt\n",
    "\n",
    "from tqdm import tqdm\n",
    "from time import time\n",
    "from sklearn.manifold import TSNE\n",
    "from sklearn import preprocessing\n",
    "from IPython.display import display\n",
    "from PIL import Image, ImageDraw, ImageFont\n",
    "from cvt.models import SubspaceMethod, KernelMSM\n",
    "from moviepy.video.io.ffmpeg_tools import ffmpeg_extract_subclip\n",
    "\n",
    "# Confirm we are working in the correct directory.\n",
    "path = '/home/atom/emotion/' # change this to the correct path\n",
    "if os.getcwd().split(os.sep)[-1] != 'emotion':\n",
    "    os.chdir(path)\n",
    "assert os.getcwd().split(os.sep)[-1] == 'emotion', 'please set the correct path. Current: {0}'.format(os.getcwd())\n",
    "\n",
    "import atomity\n",
    "\n",
    "# import JVAER tools\n",
    "from JAVER import utils\n",
    "from JAVER import scrape_tools\n",
    "from JAVER import track_tools"
   ]
  },
  {
   "cell_type": "code",
   "execution_count": 2,
   "metadata": {},
   "outputs": [],
   "source": [
    "import JAVER\n",
    "import importlib\n",
    "\n",
    "importlib.reload(JAVER.utils)\n",
    "importlib.reload(JAVER.track_tools)\n",
    "importlib.reload(JAVER.scrape_tools)\n",
    "importlib.reload(JAVER.logger);"
   ]
  },
  {
   "cell_type": "markdown",
   "metadata": {},
   "source": [
    "## Downloading images and videos\n",
    "\n",
    "We download images using the google_images_download package and we download videos using the pytube package.\n",
    "Pytube frequently breaks because of the frequent changes youtube makes and is not very stable. If it suddenly doesn't work I recommend checking their github repo for issues.\n",
    "\n",
    "Estimate time for downloading,\n",
    "\n",
    "- images <2 secs per image\n",
    "- videos <1 min per video\n",
    "\n",
    "I don't think this will become a bottle neck.\n",
    "\n",
    "Also, a lot of this notebook uses ipython widgets quite a bit. Running this .ipynb in `jupyter notebook` (or `jupyter lab` if you have nbextensions set up) is recommended."
   ]
  },
  {
   "cell_type": "code",
   "execution_count": 3,
   "metadata": {},
   "outputs": [
    {
     "name": "stdout",
     "output_type": "stream",
     "text": [
      "overwrite existing files? y/nn\n",
      "Enter Query: Elon Musk\n"
     ]
    }
   ],
   "source": [
    "# Choose paths to save data\n",
    "out_dir_path = './notebooks/single_person_results'\n",
    "\n",
    "# Set arguments to run directory here\n",
    "overwrite = True if input('overwrite existing files? y/n') == 'y' else False\n",
    "query = input('Enter Query: ')"
   ]
  },
  {
   "cell_type": "code",
   "execution_count": 5,
   "metadata": {},
   "outputs": [
    {
     "name": "stdout",
     "output_type": "stream",
     "text": [
      "Enter number of images to scrape: 80\n"
     ]
    },
    {
     "name": "stderr",
     "output_type": "stream",
     "text": [
      "[2020-03-17 19:33:48,558] \u001b[32mINFO @ line 66: Success: Loaded 80 images.\u001b[0m\n"
     ]
    },
    {
     "name": "stdout",
     "output_type": "stream",
     "text": [
      "Time: 98.4616334438324\n"
     ]
    }
   ],
   "source": [
    "# Set up save directories\n",
    "dirs1 = ['images', 'videos', 'embeddings', 'cropped_images', 'inliers', 'outliers', 'video_frames', 'new_videos']\n",
    "JAVER.utils.make_save_dirs(out_dir_path, dirs1, [query], overwrite=overwrite)\n",
    "\n",
    "n_images = int(input('Enter number of images to scrape: ')) # Number of images of each person to scrape\n",
    "chromedriver_path = 'JAVER/chromedriver' # path to chromedriver\n",
    "\n",
    "# get_face_images frequently fails to get n_images, it will usually get more than 80%\n",
    "# if there are 0 images found it will recurse and try again.\n",
    "with atomity.timing():\n",
    "    JAVER.scrape_tools.get_face_images(query, n_images, os.path.join(out_dir_path, 'images'), chromedriver_path)"
   ]
  },
  {
   "cell_type": "code",
   "execution_count": 6,
   "metadata": {
    "scrolled": true
   },
   "outputs": [
    {
     "name": "stderr",
     "output_type": "stream",
     "text": [
      "[2020-03-17 19:33:55,160] \u001b[32mINFO @ line 115: Successfully downloaded 1 videos.\u001b[0m\n"
     ]
    },
    {
     "name": "stdout",
     "output_type": "stream",
     "text": [
      "Time: 6.588725805282593\n"
     ]
    }
   ],
   "source": [
    "n_videos = 1 # Number of images of each person to scrape\n",
    "with atomity.timing():\n",
    "    video_paths = JAVER.scrape_tools.get_yt_videos(query, os.path.join(out_dir_path, 'videos'), n_videos)"
   ]
  },
  {
   "cell_type": "code",
   "execution_count": 7,
   "metadata": {},
   "outputs": [
    {
     "data": {
      "application/vnd.jupyter.widget-view+json": {
       "model_id": "3d353ab473bf420b8d0aba952318e394",
       "version_major": 2,
       "version_minor": 0
      },
      "text/plain": [
       "interactive(children=(Dropdown(description='image_path', options=('./notebooks/single_person_results/images/El…"
      ]
     },
     "metadata": {},
     "output_type": "display_data"
    }
   ],
   "source": [
    "paths = glob.glob('./notebooks/single_person_results/images/Elon Musk/*')\n",
    "atomity.browse_images(paths);"
   ]
  },
  {
   "cell_type": "markdown",
   "metadata": {},
   "source": [
    "## Face detection"
   ]
  },
  {
   "cell_type": "code",
   "execution_count": 8,
   "metadata": {},
   "outputs": [
    {
     "name": "stderr",
     "output_type": "stream",
     "text": [
      "[2020-03-17 19:33:55,220] \u001b[32mINFO @ line 120: using: cuda:0\u001b[0m\n"
     ]
    },
    {
     "name": "stdout",
     "output_type": "stream",
     "text": [
      "Time: 19.40379762649536\n"
     ]
    }
   ],
   "source": [
    "in_paths = glob.glob(r'./notebooks/single_person_results/images/*/*.jpg')\n",
    "out_paths = [p.replace('{0}images{0}'.format(os.sep), '{0}cropped_images{0}'.format(os.sep)) for p in in_paths]\n",
    "\n",
    "with atomity.timing():\n",
    "    _ = utils.crop_faces(in_image_paths=in_paths, out_paths=out_paths)"
   ]
  },
  {
   "cell_type": "code",
   "execution_count": 9,
   "metadata": {},
   "outputs": [
    {
     "data": {
      "application/vnd.jupyter.widget-view+json": {
       "model_id": "6a26c69099534afd837fc36269c9ba81",
       "version_major": 2,
       "version_minor": 0
      },
      "text/plain": [
       "interactive(children=(Dropdown(description='image_path', options=('./notebooks/single_person_results/cropped_i…"
      ]
     },
     "metadata": {},
     "output_type": "display_data"
    }
   ],
   "source": [
    "paths = glob.glob('./notebooks/single_person_results/cropped_images/Elon Musk/*')\n",
    "atomity.browse_images(paths);"
   ]
  },
  {
   "cell_type": "markdown",
   "metadata": {},
   "source": [
    "## Face Embedding"
   ]
  },
  {
   "cell_type": "code",
   "execution_count": 10,
   "metadata": {},
   "outputs": [
    {
     "name": "stderr",
     "output_type": "stream",
     "text": [
      "[2020-03-17 19:34:14,677] \u001b[32mINFO @ line 203: using: cuda:0\u001b[0m\n"
     ]
    },
    {
     "name": "stdout",
     "output_type": "stream",
     "text": [
      "Time: 4.719070672988892\n"
     ]
    }
   ],
   "source": [
    "in_paths = glob.glob(r'./notebooks/single_person_results/cropped_images/*/*.jpg')\n",
    "out_paths = [p.replace('{0}cropped_images{0}'.format(os.sep), '{0}embeddings{0}'.format(os.sep)) for p in in_paths]\n",
    "\n",
    "with atomity.timing():\n",
    "    _ = utils.embed_faces(in_paths, out_paths, return_values=[])"
   ]
  },
  {
   "cell_type": "markdown",
   "metadata": {},
   "source": [
    "## Outlier Detection\n",
    "\n",
    "Outlier detection does not seem to be effective enough..."
   ]
  },
  {
   "cell_type": "code",
   "execution_count": 11,
   "metadata": {},
   "outputs": [
    {
     "name": "stderr",
     "output_type": "stream",
     "text": [
      "[2020-03-17 19:34:19,508] \u001b[32mINFO @ line 276: 10% are outliers\u001b[0m\n"
     ]
    }
   ],
   "source": [
    "embeddings = np.zeros((0,512))\n",
    "embedding_paths = glob.glob(r'./notebooks/single_person_results/embeddings/{0}/*.npy'.format(query))\n",
    "in_paths = glob.glob(r'./notebooks/single_person_results/cropped_images/{0}/*.jpg'.format(query))\n",
    "assert len(embedding_paths) == len(in_paths)\n",
    "for path in embedding_paths:\n",
    "    embeddings = np.vstack((embeddings, np.load(path)))\n",
    "\n",
    "inlier_idx, outlier_idx = JAVER.utils.detect_outliers(embeddings)\n",
    "\n",
    "for idx in outlier_idx:\n",
    "    shutil.copyfile(in_paths[idx], in_paths[idx].replace('cropped_images', 'outliers'))\n",
    "    os.remove(embedding_paths[idx])# remove outlying embeddings\n",
    "\n",
    "for idx in inlier_idx:\n",
    "    shutil.copyfile(in_paths[idx], in_paths[idx].replace('cropped_images', 'inliers'))"
   ]
  },
  {
   "cell_type": "code",
   "execution_count": 12,
   "metadata": {},
   "outputs": [
    {
     "data": {
      "application/vnd.jupyter.widget-view+json": {
       "model_id": "fa995fcabeb1486d968b84f78d608ea8",
       "version_major": 2,
       "version_minor": 0
      },
      "text/plain": [
       "interactive(children=(Dropdown(description='image_path', options=('./notebooks/single_person_results/inliers/E…"
      ]
     },
     "metadata": {},
     "output_type": "display_data"
    }
   ],
   "source": [
    "reference_image_paths = glob.glob('./notebooks/single_person_results/inliers/Elon Musk/*')\n",
    "atomity.browse_images(reference_image_paths);"
   ]
  },
  {
   "cell_type": "code",
   "execution_count": 13,
   "metadata": {},
   "outputs": [
    {
     "data": {
      "application/vnd.jupyter.widget-view+json": {
       "model_id": "d6da95ef66504a52bdd98b8eed0fbb32",
       "version_major": 2,
       "version_minor": 0
      },
      "text/plain": [
       "interactive(children=(Dropdown(description='image_path', options=('./notebooks/single_person_results/outliers/…"
      ]
     },
     "metadata": {},
     "output_type": "display_data"
    }
   ],
   "source": [
    "paths = glob.glob('./notebooks/single_person_results/outliers/Elon Musk/*')\n",
    "atomity.browse_images(paths);"
   ]
  },
  {
   "cell_type": "markdown",
   "metadata": {},
   "source": [
    "## Facial Tracking\n",
    "\n",
    "Facial tracking requires videos the videos that we have downloaded from youtube. For demonstration purposes we will use crop a video to about.. maybe 30 seconds?"
   ]
  },
  {
   "cell_type": "code",
   "execution_count": 155,
   "metadata": {},
   "outputs": [],
   "source": [
    "# Standard Library\n",
    "import os, sys\n",
    "import glob, shutil\n",
    "\n",
    "# PyPI dependencies\n",
    "import cv2\n",
    "import chainercv\n",
    "import imageio\n",
    "\n",
    "import numpy as np\n",
    "import ipywidgets as wgt\n",
    "import matplotlib.pyplot as plt\n",
    "\n",
    "from tqdm import tqdm\n",
    "from time import time\n",
    "from sklearn.manifold import TSNE\n",
    "from sklearn import preprocessing\n",
    "from IPython.display import display\n",
    "from PIL import Image, ImageDraw, ImageFont\n",
    "from cvt.models import SubspaceMethod, KernelMSM\n",
    "from moviepy.video.io.ffmpeg_tools import ffmpeg_extract_subclip\n",
    "\n",
    "# Confirm we are working in the correct directory.\n",
    "path = '/home/atom/emotion/' # change this to the correct path\n",
    "if os.getcwd().split(os.sep)[-1] != 'emotion':\n",
    "    os.chdir(path)\n",
    "assert os.getcwd().split(os.sep)[-1] == 'emotion', 'please set the correct path. Current: {0}'.format(os.getcwd())\n",
    "\n",
    "import atomity\n",
    "\n",
    "# import JVAER tools\n",
    "from JAVER import utils\n",
    "from JAVER import scrape_tools\n",
    "from JAVER import track_tools\n",
    "\n",
    "import JAVER\n",
    "import importlib\n",
    "\n",
    "importlib.reload(JAVER.utils)\n",
    "importlib.reload(JAVER.track_tools)\n",
    "importlib.reload(JAVER.scrape_tools)\n",
    "importlib.reload(JAVER.logger);"
   ]
  },
  {
   "cell_type": "code",
   "execution_count": 156,
   "metadata": {},
   "outputs": [],
   "source": [
    "video_path = './notebooks/single_person_results/videos/Elon Musk/0.mp4'\n",
    "cropped_video_path = os.path.join(os.path.dirname(video_path), 'cropped_video.mp4')"
   ]
  },
  {
   "cell_type": "code",
   "execution_count": 157,
   "metadata": {},
   "outputs": [
    {
     "name": "stdout",
     "output_type": "stream",
     "text": [
      "Moviepy - Running:\n",
      ">>> \"+ \" \".join(cmd)\n",
      "Moviepy - Command successful\n"
     ]
    },
    {
     "data": {
      "application/vnd.jupyter.widget-view+json": {
       "model_id": "c97375792f5240f2acc0f2a969add374",
       "version_major": 2,
       "version_minor": 0
      },
      "text/plain": [
       "interactive(children=(Dropdown(description='Frame', options=(1, 61, 121, 181, 241, 301, 361, 421, 481, 541, 60…"
      ]
     },
     "metadata": {},
     "output_type": "display_data"
    }
   ],
   "source": [
    "ffmpeg_extract_subclip(video_path, t1=150, t2=180, targetname=cropped_video_path)\n",
    "\n",
    "video = imageio.get_reader(cropped_video_path,  'ffmpeg') # fails sometimes ? \n",
    "n_frames = video.count_frames()\n",
    "\n",
    "# Make sure the subjects face is showing in consecutive frames\n",
    "@wgt.interact(Frame=range(1, n_frames, 60))\n",
    "def peek_video(Frame):\n",
    "    display(Image.fromarray(video.get_data(Frame)))"
   ]
  },
  {
   "cell_type": "code",
   "execution_count": 158,
   "metadata": {},
   "outputs": [],
   "source": [
    "ref_paths = glob.glob('./notebooks/single_person_results/inliers/Elon Musk/*')\n",
    "face_tracker = track_tools.FaceTracker(ref_paths = ref_paths, image_size=160, batch_size=100, step=100)"
   ]
  },
  {
   "cell_type": "code",
   "execution_count": 159,
   "metadata": {
    "scrolled": false
   },
   "outputs": [
    {
     "name": "stderr",
     "output_type": "stream",
     "text": [
      "[2020-03-21 18:39:17,561] \u001b[36mDEBUG @ line 188: Frame: 0, n_faces: 2\u001b[0m\n",
      "[2020-03-21 18:39:17,692] \u001b[36mDEBUG @ line 188: Frame: 100, n_faces: 2\u001b[0m\n",
      "[2020-03-21 18:39:17,812] \u001b[36mDEBUG @ line 188: Frame: 200, n_faces: 2\u001b[0m\n",
      "[2020-03-21 18:39:17,875] \u001b[36mDEBUG @ line 188: Frame: 300, n_faces: 1\u001b[0m\n",
      "[2020-03-21 18:39:17,940] \u001b[36mDEBUG @ line 188: Frame: 400, n_faces: 1\u001b[0m\n",
      "[2020-03-21 18:39:17,941] \u001b[36mDEBUG @ line 183: Frame: 500, n_faces: 0\u001b[0m\n",
      "[2020-03-21 18:39:17,944] \u001b[36mDEBUG @ line 183: Frame: 600, n_faces: 0\u001b[0m\n",
      "[2020-03-21 18:39:17,945] \u001b[36mDEBUG @ line 183: Frame: 700, n_faces: 0\u001b[0m\n",
      "[2020-03-21 18:39:17,947] \u001b[36mDEBUG @ line 183: Frame: 800, n_faces: 0\u001b[0m\n",
      "[2020-03-21 18:39:17,947] \u001b[32mINFO @ line 204: Rollback to 0\u001b[0m\n",
      "[2020-03-21 18:39:21,076] \u001b[36mDEBUG @ line 188: Frame: 0, n_faces: 2\u001b[0m\n",
      "[2020-03-21 18:39:21,200] \u001b[36mDEBUG @ line 188: Frame: 10, n_faces: 2\u001b[0m\n",
      "[2020-03-21 18:39:21,320] \u001b[36mDEBUG @ line 188: Frame: 20, n_faces: 2\u001b[0m\n",
      "[2020-03-21 18:39:21,377] \u001b[36mDEBUG @ line 188: Frame: 30, n_faces: 1\u001b[0m\n",
      "[2020-03-21 18:39:21,490] \u001b[36mDEBUG @ line 188: Frame: 40, n_faces: 2\u001b[0m\n",
      "[2020-03-21 18:39:21,616] \u001b[36mDEBUG @ line 188: Frame: 50, n_faces: 2\u001b[0m\n",
      "[2020-03-21 18:39:21,747] \u001b[36mDEBUG @ line 188: Frame: 60, n_faces: 2\u001b[0m\n",
      "[2020-03-21 18:39:21,867] \u001b[36mDEBUG @ line 188: Frame: 70, n_faces: 2\u001b[0m\n",
      "[2020-03-21 18:39:21,926] \u001b[36mDEBUG @ line 188: Frame: 80, n_faces: 1\u001b[0m\n",
      "[2020-03-21 18:39:22,048] \u001b[36mDEBUG @ line 188: Frame: 90, n_faces: 2\u001b[0m\n",
      "[2020-03-21 18:39:22,170] \u001b[36mDEBUG @ line 188: Frame: 100, n_faces: 2\u001b[0m\n",
      "[2020-03-21 18:39:22,291] \u001b[36mDEBUG @ line 188: Frame: 110, n_faces: 2\u001b[0m\n",
      "[2020-03-21 18:39:22,356] \u001b[36mDEBUG @ line 188: Frame: 120, n_faces: 1\u001b[0m\n",
      "[2020-03-21 18:39:22,475] \u001b[36mDEBUG @ line 188: Frame: 130, n_faces: 2\u001b[0m\n",
      "[2020-03-21 18:39:22,597] \u001b[36mDEBUG @ line 188: Frame: 140, n_faces: 2\u001b[0m\n",
      "[2020-03-21 18:39:22,727] \u001b[36mDEBUG @ line 188: Frame: 150, n_faces: 2\u001b[0m\n",
      "[2020-03-21 18:39:22,850] \u001b[36mDEBUG @ line 188: Frame: 160, n_faces: 2\u001b[0m\n",
      "[2020-03-21 18:39:22,911] \u001b[36mDEBUG @ line 188: Frame: 170, n_faces: 1\u001b[0m\n",
      "[2020-03-21 18:39:23,032] \u001b[36mDEBUG @ line 188: Frame: 180, n_faces: 2\u001b[0m\n",
      "[2020-03-21 18:39:23,152] \u001b[36mDEBUG @ line 188: Frame: 190, n_faces: 2\u001b[0m\n",
      "[2020-03-21 18:39:23,269] \u001b[36mDEBUG @ line 188: Frame: 200, n_faces: 2\u001b[0m\n",
      "[2020-03-21 18:39:23,326] \u001b[36mDEBUG @ line 188: Frame: 210, n_faces: 1\u001b[0m\n",
      "[2020-03-21 18:39:23,446] \u001b[36mDEBUG @ line 188: Frame: 220, n_faces: 2\u001b[0m\n",
      "[2020-03-21 18:39:23,561] \u001b[36mDEBUG @ line 188: Frame: 230, n_faces: 2\u001b[0m\n",
      "[2020-03-21 18:39:23,673] \u001b[36mDEBUG @ line 188: Frame: 240, n_faces: 2\u001b[0m\n",
      "[2020-03-21 18:39:23,806] \u001b[36mDEBUG @ line 188: Frame: 250, n_faces: 2\u001b[0m\n",
      "[2020-03-21 18:39:23,869] \u001b[36mDEBUG @ line 188: Frame: 260, n_faces: 1\u001b[0m\n",
      "[2020-03-21 18:39:23,986] \u001b[36mDEBUG @ line 188: Frame: 270, n_faces: 2\u001b[0m\n",
      "[2020-03-21 18:39:24,101] \u001b[36mDEBUG @ line 188: Frame: 280, n_faces: 2\u001b[0m\n",
      "[2020-03-21 18:39:24,230] \u001b[36mDEBUG @ line 188: Frame: 290, n_faces: 2\u001b[0m\n",
      "[2020-03-21 18:39:24,291] \u001b[36mDEBUG @ line 188: Frame: 300, n_faces: 1\u001b[0m\n",
      "[2020-03-21 18:39:24,410] \u001b[36mDEBUG @ line 188: Frame: 310, n_faces: 2\u001b[0m\n",
      "[2020-03-21 18:39:24,541] \u001b[36mDEBUG @ line 188: Frame: 320, n_faces: 2\u001b[0m\n",
      "[2020-03-21 18:39:24,661] \u001b[36mDEBUG @ line 188: Frame: 330, n_faces: 2\u001b[0m\n",
      "[2020-03-21 18:39:24,793] \u001b[36mDEBUG @ line 188: Frame: 340, n_faces: 2\u001b[0m\n",
      "[2020-03-21 18:39:24,851] \u001b[36mDEBUG @ line 188: Frame: 350, n_faces: 1\u001b[0m\n",
      "[2020-03-21 18:39:24,973] \u001b[36mDEBUG @ line 188: Frame: 360, n_faces: 2\u001b[0m\n",
      "[2020-03-21 18:39:25,094] \u001b[36mDEBUG @ line 188: Frame: 370, n_faces: 2\u001b[0m\n",
      "[2020-03-21 18:39:25,213] \u001b[36mDEBUG @ line 188: Frame: 380, n_faces: 2\u001b[0m\n",
      "[2020-03-21 18:39:25,269] \u001b[36mDEBUG @ line 188: Frame: 390, n_faces: 1\u001b[0m\n",
      "[2020-03-21 18:39:25,375] \u001b[36mDEBUG @ line 188: Frame: 400, n_faces: 2\u001b[0m\n",
      "[2020-03-21 18:39:25,377] \u001b[36mDEBUG @ line 183: Frame: 410, n_faces: 0\u001b[0m\n",
      "[2020-03-21 18:39:25,378] \u001b[36mDEBUG @ line 183: Frame: 420, n_faces: 0\u001b[0m\n",
      "[2020-03-21 18:39:25,379] \u001b[36mDEBUG @ line 183: Frame: 430, n_faces: 0\u001b[0m\n",
      "[2020-03-21 18:39:25,436] \u001b[36mDEBUG @ line 188: Frame: 440, n_faces: 1\u001b[0m\n",
      "[2020-03-21 18:39:25,437] \u001b[36mDEBUG @ line 183: Frame: 450, n_faces: 0\u001b[0m\n",
      "[2020-03-21 18:39:25,550] \u001b[36mDEBUG @ line 188: Frame: 460, n_faces: 2\u001b[0m\n",
      "[2020-03-21 18:39:25,660] \u001b[36mDEBUG @ line 188: Frame: 470, n_faces: 2\u001b[0m\n",
      "[2020-03-21 18:39:25,718] \u001b[36mDEBUG @ line 188: Frame: 480, n_faces: 1\u001b[0m\n",
      "[2020-03-21 18:39:25,839] \u001b[36mDEBUG @ line 188: Frame: 490, n_faces: 2\u001b[0m\n",
      "[2020-03-21 18:39:25,904] \u001b[36mDEBUG @ line 188: Frame: 500, n_faces: 1\u001b[0m\n",
      "[2020-03-21 18:39:25,905] \u001b[36mDEBUG @ line 183: Frame: 510, n_faces: 0\u001b[0m\n",
      "[2020-03-21 18:39:25,907] \u001b[36mDEBUG @ line 183: Frame: 520, n_faces: 0\u001b[0m\n",
      "[2020-03-21 18:39:25,908] \u001b[36mDEBUG @ line 183: Frame: 530, n_faces: 0\u001b[0m\n",
      "[2020-03-21 18:39:25,908] \u001b[36mDEBUG @ line 183: Frame: 540, n_faces: 0\u001b[0m\n",
      "[2020-03-21 18:39:25,909] \u001b[36mDEBUG @ line 183: Frame: 550, n_faces: 0\u001b[0m\n",
      "[2020-03-21 18:39:25,910] \u001b[36mDEBUG @ line 183: Frame: 560, n_faces: 0\u001b[0m\n",
      "[2020-03-21 18:39:25,912] \u001b[36mDEBUG @ line 183: Frame: 570, n_faces: 0\u001b[0m\n",
      "[2020-03-21 18:39:25,914] \u001b[36mDEBUG @ line 183: Frame: 580, n_faces: 0\u001b[0m\n",
      "[2020-03-21 18:39:25,915] \u001b[36mDEBUG @ line 183: Frame: 590, n_faces: 0\u001b[0m\n",
      "[2020-03-21 18:39:25,916] \u001b[36mDEBUG @ line 183: Frame: 600, n_faces: 0\u001b[0m\n",
      "[2020-03-21 18:39:25,917] \u001b[36mDEBUG @ line 183: Frame: 610, n_faces: 0\u001b[0m\n",
      "[2020-03-21 18:39:25,918] \u001b[36mDEBUG @ line 183: Frame: 620, n_faces: 0\u001b[0m\n",
      "[2020-03-21 18:39:25,919] \u001b[36mDEBUG @ line 183: Frame: 630, n_faces: 0\u001b[0m\n",
      "[2020-03-21 18:39:25,920] \u001b[36mDEBUG @ line 183: Frame: 640, n_faces: 0\u001b[0m\n",
      "[2020-03-21 18:39:25,921] \u001b[36mDEBUG @ line 183: Frame: 650, n_faces: 0\u001b[0m\n",
      "[2020-03-21 18:39:25,922] \u001b[36mDEBUG @ line 183: Frame: 660, n_faces: 0\u001b[0m\n",
      "[2020-03-21 18:39:25,924] \u001b[36mDEBUG @ line 183: Frame: 670, n_faces: 0\u001b[0m\n",
      "[2020-03-21 18:39:25,924] \u001b[36mDEBUG @ line 183: Frame: 680, n_faces: 0\u001b[0m\n",
      "[2020-03-21 18:39:25,926] \u001b[36mDEBUG @ line 183: Frame: 690, n_faces: 0\u001b[0m\n",
      "[2020-03-21 18:39:25,927] \u001b[36mDEBUG @ line 183: Frame: 700, n_faces: 0\u001b[0m\n",
      "[2020-03-21 18:39:25,928] \u001b[36mDEBUG @ line 183: Frame: 710, n_faces: 0\u001b[0m\n",
      "[2020-03-21 18:39:25,929] \u001b[36mDEBUG @ line 183: Frame: 720, n_faces: 0\u001b[0m\n",
      "[2020-03-21 18:39:25,930] \u001b[36mDEBUG @ line 183: Frame: 730, n_faces: 0\u001b[0m\n",
      "[2020-03-21 18:39:25,930] \u001b[36mDEBUG @ line 183: Frame: 740, n_faces: 0\u001b[0m\n",
      "[2020-03-21 18:39:25,932] \u001b[36mDEBUG @ line 183: Frame: 750, n_faces: 0\u001b[0m\n",
      "[2020-03-21 18:39:25,932] \u001b[36mDEBUG @ line 183: Frame: 760, n_faces: 0\u001b[0m\n",
      "[2020-03-21 18:39:25,933] \u001b[36mDEBUG @ line 183: Frame: 770, n_faces: 0\u001b[0m\n",
      "[2020-03-21 18:39:25,934] \u001b[36mDEBUG @ line 183: Frame: 780, n_faces: 0\u001b[0m\n",
      "[2020-03-21 18:39:25,934] \u001b[36mDEBUG @ line 183: Frame: 790, n_faces: 0\u001b[0m\n",
      "[2020-03-21 18:39:25,935] \u001b[36mDEBUG @ line 183: Frame: 800, n_faces: 0\u001b[0m\n",
      "[2020-03-21 18:39:25,936] \u001b[36mDEBUG @ line 183: Frame: 810, n_faces: 0\u001b[0m\n",
      "[2020-03-21 18:39:25,936] \u001b[36mDEBUG @ line 183: Frame: 820, n_faces: 0\u001b[0m\n",
      "[2020-03-21 18:39:25,937] \u001b[36mDEBUG @ line 183: Frame: 830, n_faces: 0\u001b[0m\n",
      "[2020-03-21 18:39:25,938] \u001b[36mDEBUG @ line 183: Frame: 840, n_faces: 0\u001b[0m\n",
      "[2020-03-21 18:39:25,938] \u001b[36mDEBUG @ line 183: Frame: 850, n_faces: 0\u001b[0m\n",
      "[2020-03-21 18:39:25,939] \u001b[36mDEBUG @ line 183: Frame: 860, n_faces: 0\u001b[0m\n",
      "[2020-03-21 18:39:25,940] \u001b[36mDEBUG @ line 183: Frame: 870, n_faces: 0\u001b[0m\n",
      "[2020-03-21 18:39:25,941] \u001b[36mDEBUG @ line 183: Frame: 880, n_faces: 0\u001b[0m\n",
      "[2020-03-21 18:39:25,941] \u001b[36mDEBUG @ line 183: Frame: 890, n_faces: 0\u001b[0m\n",
      "[2020-03-21 18:39:25,942] \u001b[32mINFO @ line 214: Rollforward to 510\u001b[0m\n",
      "[2020-03-21 18:39:26,208] \u001b[36mDEBUG @ line 188: Frame: 510, n_faces: 2\u001b[0m\n",
      "[2020-03-21 18:39:26,278] \u001b[36mDEBUG @ line 188: Frame: 610, n_faces: 1\u001b[0m\n",
      "[2020-03-21 18:39:26,279] \u001b[36mDEBUG @ line 183: Frame: 710, n_faces: 0\u001b[0m\n",
      "[2020-03-21 18:39:26,280] \u001b[36mDEBUG @ line 183: Frame: 810, n_faces: 0\u001b[0m\n",
      "[2020-03-21 18:39:26,282] \u001b[32mINFO @ line 204: Rollback to 410\u001b[0m\n",
      "[2020-03-21 18:39:27,835] \u001b[36mDEBUG @ line 188: Frame: 410, n_faces: 2\u001b[0m\n",
      "[2020-03-21 18:39:27,956] \u001b[36mDEBUG @ line 188: Frame: 420, n_faces: 2\u001b[0m\n",
      "[2020-03-21 18:39:28,078] \u001b[36mDEBUG @ line 188: Frame: 430, n_faces: 2\u001b[0m\n"
     ]
    },
    {
     "name": "stderr",
     "output_type": "stream",
     "text": [
      "[2020-03-21 18:39:28,141] \u001b[36mDEBUG @ line 188: Frame: 440, n_faces: 1\u001b[0m\n",
      "[2020-03-21 18:39:28,259] \u001b[36mDEBUG @ line 188: Frame: 450, n_faces: 2\u001b[0m\n",
      "[2020-03-21 18:39:28,375] \u001b[36mDEBUG @ line 188: Frame: 460, n_faces: 2\u001b[0m\n",
      "[2020-03-21 18:39:28,498] \u001b[36mDEBUG @ line 188: Frame: 470, n_faces: 2\u001b[0m\n",
      "[2020-03-21 18:39:28,615] \u001b[36mDEBUG @ line 188: Frame: 480, n_faces: 2\u001b[0m\n",
      "[2020-03-21 18:39:28,673] \u001b[36mDEBUG @ line 188: Frame: 490, n_faces: 1\u001b[0m\n",
      "[2020-03-21 18:39:28,794] \u001b[36mDEBUG @ line 188: Frame: 500, n_faces: 2\u001b[0m\n",
      "[2020-03-21 18:39:28,914] \u001b[36mDEBUG @ line 188: Frame: 510, n_faces: 2\u001b[0m\n",
      "[2020-03-21 18:39:29,032] \u001b[36mDEBUG @ line 188: Frame: 520, n_faces: 2\u001b[0m\n",
      "[2020-03-21 18:39:29,095] \u001b[36mDEBUG @ line 188: Frame: 530, n_faces: 1\u001b[0m\n",
      "[2020-03-21 18:39:29,212] \u001b[36mDEBUG @ line 188: Frame: 540, n_faces: 2\u001b[0m\n",
      "[2020-03-21 18:39:29,324] \u001b[36mDEBUG @ line 188: Frame: 550, n_faces: 2\u001b[0m\n",
      "[2020-03-21 18:39:29,439] \u001b[36mDEBUG @ line 188: Frame: 560, n_faces: 2\u001b[0m\n",
      "[2020-03-21 18:39:29,555] \u001b[36mDEBUG @ line 188: Frame: 570, n_faces: 2\u001b[0m\n",
      "[2020-03-21 18:39:29,615] \u001b[36mDEBUG @ line 188: Frame: 580, n_faces: 1\u001b[0m\n",
      "[2020-03-21 18:39:29,616] \u001b[36mDEBUG @ line 183: Frame: 590, n_faces: 0\u001b[0m\n",
      "[2020-03-21 18:39:29,618] \u001b[36mDEBUG @ line 183: Frame: 600, n_faces: 0\u001b[0m\n",
      "[2020-03-21 18:39:29,619] \u001b[36mDEBUG @ line 183: Frame: 610, n_faces: 0\u001b[0m\n",
      "[2020-03-21 18:39:29,620] \u001b[36mDEBUG @ line 183: Frame: 620, n_faces: 0\u001b[0m\n",
      "[2020-03-21 18:39:29,621] \u001b[36mDEBUG @ line 183: Frame: 630, n_faces: 0\u001b[0m\n",
      "[2020-03-21 18:39:29,742] \u001b[36mDEBUG @ line 188: Frame: 640, n_faces: 2\u001b[0m\n",
      "[2020-03-21 18:39:29,857] \u001b[36mDEBUG @ line 188: Frame: 650, n_faces: 2\u001b[0m\n",
      "[2020-03-21 18:39:29,975] \u001b[36mDEBUG @ line 188: Frame: 660, n_faces: 2\u001b[0m\n",
      "[2020-03-21 18:39:30,041] \u001b[36mDEBUG @ line 188: Frame: 670, n_faces: 1\u001b[0m\n",
      "[2020-03-21 18:39:30,103] \u001b[36mDEBUG @ line 188: Frame: 680, n_faces: 1\u001b[0m\n",
      "[2020-03-21 18:39:30,104] \u001b[36mDEBUG @ line 183: Frame: 690, n_faces: 0\u001b[0m\n",
      "[2020-03-21 18:39:30,105] \u001b[36mDEBUG @ line 183: Frame: 700, n_faces: 0\u001b[0m\n",
      "[2020-03-21 18:39:30,105] \u001b[36mDEBUG @ line 183: Frame: 710, n_faces: 0\u001b[0m\n",
      "[2020-03-21 18:39:30,106] \u001b[36mDEBUG @ line 183: Frame: 720, n_faces: 0\u001b[0m\n",
      "[2020-03-21 18:39:30,107] \u001b[36mDEBUG @ line 183: Frame: 730, n_faces: 0\u001b[0m\n",
      "[2020-03-21 18:39:30,108] \u001b[36mDEBUG @ line 183: Frame: 740, n_faces: 0\u001b[0m\n",
      "[2020-03-21 18:39:30,109] \u001b[36mDEBUG @ line 183: Frame: 750, n_faces: 0\u001b[0m\n",
      "[2020-03-21 18:39:30,109] \u001b[36mDEBUG @ line 183: Frame: 760, n_faces: 0\u001b[0m\n",
      "[2020-03-21 18:39:30,110] \u001b[36mDEBUG @ line 183: Frame: 770, n_faces: 0\u001b[0m\n",
      "[2020-03-21 18:39:30,111] \u001b[36mDEBUG @ line 183: Frame: 780, n_faces: 0\u001b[0m\n",
      "[2020-03-21 18:39:30,112] \u001b[36mDEBUG @ line 183: Frame: 790, n_faces: 0\u001b[0m\n",
      "[2020-03-21 18:39:30,116] \u001b[36mDEBUG @ line 183: Frame: 800, n_faces: 0\u001b[0m\n",
      "[2020-03-21 18:39:30,116] \u001b[36mDEBUG @ line 183: Frame: 810, n_faces: 0\u001b[0m\n",
      "[2020-03-21 18:39:30,117] \u001b[36mDEBUG @ line 183: Frame: 820, n_faces: 0\u001b[0m\n",
      "[2020-03-21 18:39:30,118] \u001b[36mDEBUG @ line 183: Frame: 830, n_faces: 0\u001b[0m\n",
      "[2020-03-21 18:39:30,119] \u001b[36mDEBUG @ line 183: Frame: 840, n_faces: 0\u001b[0m\n",
      "[2020-03-21 18:39:30,120] \u001b[36mDEBUG @ line 183: Frame: 850, n_faces: 0\u001b[0m\n",
      "[2020-03-21 18:39:30,120] \u001b[36mDEBUG @ line 183: Frame: 860, n_faces: 0\u001b[0m\n",
      "[2020-03-21 18:39:30,121] \u001b[36mDEBUG @ line 183: Frame: 870, n_faces: 0\u001b[0m\n",
      "[2020-03-21 18:39:30,122] \u001b[36mDEBUG @ line 183: Frame: 880, n_faces: 0\u001b[0m\n",
      "[2020-03-21 18:39:30,123] \u001b[36mDEBUG @ line 183: Frame: 890, n_faces: 0\u001b[0m\n",
      "[2020-03-21 18:39:30,123] \u001b[32mINFO @ line 214: Rollforward to 690\u001b[0m\n",
      "[2020-03-21 18:39:30,374] \u001b[36mDEBUG @ line 188: Frame: 690, n_faces: 2\u001b[0m\n",
      "[2020-03-21 18:39:30,441] \u001b[36mDEBUG @ line 188: Frame: 790, n_faces: 1\u001b[0m\n",
      "[2020-03-21 18:39:30,442] \u001b[36mDEBUG @ line 183: Frame: 890, n_faces: 0\u001b[0m\n",
      "[2020-03-21 18:39:30,443] \u001b[32mINFO @ line 204: Rollback to 590\u001b[0m\n",
      "[2020-03-21 18:39:31,352] \u001b[36mDEBUG @ line 188: Frame: 590, n_faces: 2\u001b[0m\n",
      "[2020-03-21 18:39:31,474] \u001b[36mDEBUG @ line 188: Frame: 600, n_faces: 2\u001b[0m\n",
      "[2020-03-21 18:39:31,595] \u001b[36mDEBUG @ line 188: Frame: 610, n_faces: 2\u001b[0m\n",
      "[2020-03-21 18:39:31,654] \u001b[36mDEBUG @ line 188: Frame: 620, n_faces: 1\u001b[0m\n",
      "[2020-03-21 18:39:31,774] \u001b[36mDEBUG @ line 188: Frame: 630, n_faces: 2\u001b[0m\n",
      "[2020-03-21 18:39:31,900] \u001b[36mDEBUG @ line 188: Frame: 640, n_faces: 2\u001b[0m\n",
      "[2020-03-21 18:39:32,021] \u001b[36mDEBUG @ line 188: Frame: 650, n_faces: 2\u001b[0m\n",
      "[2020-03-21 18:39:32,091] \u001b[36mDEBUG @ line 188: Frame: 660, n_faces: 1\u001b[0m\n",
      "[2020-03-21 18:39:32,092] \u001b[36mDEBUG @ line 183: Frame: 670, n_faces: 0\u001b[0m\n",
      "[2020-03-21 18:39:32,093] \u001b[36mDEBUG @ line 183: Frame: 680, n_faces: 0\u001b[0m\n",
      "[2020-03-21 18:39:32,094] \u001b[36mDEBUG @ line 183: Frame: 690, n_faces: 0\u001b[0m\n",
      "[2020-03-21 18:39:32,095] \u001b[36mDEBUG @ line 183: Frame: 700, n_faces: 0\u001b[0m\n",
      "[2020-03-21 18:39:32,160] \u001b[36mDEBUG @ line 188: Frame: 710, n_faces: 1\u001b[0m\n",
      "[2020-03-21 18:39:32,271] \u001b[36mDEBUG @ line 188: Frame: 720, n_faces: 2\u001b[0m\n",
      "[2020-03-21 18:39:32,392] \u001b[36mDEBUG @ line 188: Frame: 730, n_faces: 2\u001b[0m\n",
      "[2020-03-21 18:39:32,516] \u001b[36mDEBUG @ line 188: Frame: 740, n_faces: 2\u001b[0m\n",
      "[2020-03-21 18:39:32,644] \u001b[36mDEBUG @ line 188: Frame: 750, n_faces: 2\u001b[0m\n",
      "[2020-03-21 18:39:32,646] \u001b[36mDEBUG @ line 183: Frame: 760, n_faces: 0\u001b[0m\n",
      "[2020-03-21 18:39:32,647] \u001b[36mDEBUG @ line 183: Frame: 770, n_faces: 0\u001b[0m\n",
      "[2020-03-21 18:39:32,648] \u001b[36mDEBUG @ line 183: Frame: 780, n_faces: 0\u001b[0m\n",
      "[2020-03-21 18:39:32,648] \u001b[36mDEBUG @ line 183: Frame: 790, n_faces: 0\u001b[0m\n",
      "[2020-03-21 18:39:32,649] \u001b[36mDEBUG @ line 183: Frame: 800, n_faces: 0\u001b[0m\n",
      "[2020-03-21 18:39:32,651] \u001b[36mDEBUG @ line 183: Frame: 810, n_faces: 0\u001b[0m\n",
      "[2020-03-21 18:39:32,652] \u001b[36mDEBUG @ line 183: Frame: 820, n_faces: 0\u001b[0m\n",
      "[2020-03-21 18:39:32,653] \u001b[36mDEBUG @ line 183: Frame: 830, n_faces: 0\u001b[0m\n",
      "[2020-03-21 18:39:32,653] \u001b[36mDEBUG @ line 183: Frame: 840, n_faces: 0\u001b[0m\n",
      "[2020-03-21 18:39:32,654] \u001b[36mDEBUG @ line 183: Frame: 850, n_faces: 0\u001b[0m\n",
      "[2020-03-21 18:39:32,655] \u001b[36mDEBUG @ line 183: Frame: 860, n_faces: 0\u001b[0m\n",
      "[2020-03-21 18:39:32,655] \u001b[36mDEBUG @ line 183: Frame: 870, n_faces: 0\u001b[0m\n",
      "[2020-03-21 18:39:32,656] \u001b[36mDEBUG @ line 183: Frame: 880, n_faces: 0\u001b[0m\n",
      "[2020-03-21 18:39:32,657] \u001b[36mDEBUG @ line 183: Frame: 890, n_faces: 0\u001b[0m\n",
      "[2020-03-21 18:39:32,657] \u001b[32mINFO @ line 214: Rollforward to 760\u001b[0m\n",
      "[2020-03-21 18:39:32,808] \u001b[36mDEBUG @ line 188: Frame: 760, n_faces: 1\u001b[0m\n",
      "[2020-03-21 18:39:32,810] \u001b[36mDEBUG @ line 183: Frame: 860, n_faces: 0\u001b[0m\n",
      "[2020-03-21 18:39:32,811] \u001b[32mINFO @ line 204: Rollback to 660\u001b[0m\n",
      "[2020-03-21 18:39:33,543] \u001b[36mDEBUG @ line 188: Frame: 660, n_faces: 2\u001b[0m\n",
      "[2020-03-21 18:39:33,660] \u001b[36mDEBUG @ line 188: Frame: 670, n_faces: 2\u001b[0m\n",
      "[2020-03-21 18:39:33,772] \u001b[36mDEBUG @ line 188: Frame: 680, n_faces: 2\u001b[0m\n",
      "[2020-03-21 18:39:33,835] \u001b[36mDEBUG @ line 188: Frame: 690, n_faces: 1\u001b[0m\n",
      "[2020-03-21 18:39:33,836] \u001b[36mDEBUG @ line 183: Frame: 700, n_faces: 0\u001b[0m\n",
      "[2020-03-21 18:39:33,837] \u001b[36mDEBUG @ line 183: Frame: 710, n_faces: 0\u001b[0m\n",
      "[2020-03-21 18:39:33,838] \u001b[36mDEBUG @ line 183: Frame: 720, n_faces: 0\u001b[0m\n",
      "[2020-03-21 18:39:33,900] \u001b[36mDEBUG @ line 188: Frame: 730, n_faces: 1\u001b[0m\n",
      "[2020-03-21 18:39:33,901] \u001b[36mDEBUG @ line 183: Frame: 740, n_faces: 0\u001b[0m\n",
      "[2020-03-21 18:39:34,021] \u001b[36mDEBUG @ line 188: Frame: 750, n_faces: 2\u001b[0m\n",
      "[2020-03-21 18:39:34,135] \u001b[36mDEBUG @ line 188: Frame: 760, n_faces: 2\u001b[0m\n",
      "[2020-03-21 18:39:34,254] \u001b[36mDEBUG @ line 188: Frame: 770, n_faces: 2\u001b[0m\n",
      "[2020-03-21 18:39:34,318] \u001b[36mDEBUG @ line 188: Frame: 780, n_faces: 1\u001b[0m\n",
      "[2020-03-21 18:39:34,378] \u001b[36mDEBUG @ line 188: Frame: 790, n_faces: 1\u001b[0m\n",
      "[2020-03-21 18:39:34,379] \u001b[36mDEBUG @ line 183: Frame: 800, n_faces: 0\u001b[0m\n",
      "[2020-03-21 18:39:34,380] \u001b[36mDEBUG @ line 183: Frame: 810, n_faces: 0\u001b[0m\n",
      "[2020-03-21 18:39:34,381] \u001b[36mDEBUG @ line 183: Frame: 820, n_faces: 0\u001b[0m\n",
      "[2020-03-21 18:39:34,382] \u001b[36mDEBUG @ line 183: Frame: 830, n_faces: 0\u001b[0m\n",
      "[2020-03-21 18:39:34,382] \u001b[36mDEBUG @ line 183: Frame: 840, n_faces: 0\u001b[0m\n",
      "[2020-03-21 18:39:34,383] \u001b[36mDEBUG @ line 183: Frame: 850, n_faces: 0\u001b[0m\n",
      "[2020-03-21 18:39:34,384] \u001b[36mDEBUG @ line 183: Frame: 860, n_faces: 0\u001b[0m\n",
      "[2020-03-21 18:39:34,385] \u001b[36mDEBUG @ line 183: Frame: 870, n_faces: 0\u001b[0m\n",
      "[2020-03-21 18:39:34,388] \u001b[36mDEBUG @ line 183: Frame: 880, n_faces: 0\u001b[0m\n"
     ]
    },
    {
     "name": "stderr",
     "output_type": "stream",
     "text": [
      "[2020-03-21 18:39:34,388] \u001b[36mDEBUG @ line 183: Frame: 890, n_faces: 0\u001b[0m\n",
      "[2020-03-21 18:39:34,389] \u001b[32mINFO @ line 214: Rollforward to 800\u001b[0m\n",
      "[2020-03-21 18:39:34,441] \u001b[36mDEBUG @ line 183: Frame: 800, n_faces: 0\u001b[0m\n"
     ]
    },
    {
     "name": "stdout",
     "output_type": "stream",
     "text": [
      "Time: 18.524126768112183\n"
     ]
    }
   ],
   "source": [
    "with atomity.timing():\n",
    "    face_dict = face_tracker.detect(video_path=cropped_video_path)"
   ]
  },
  {
   "cell_type": "code",
   "execution_count": 173,
   "metadata": {},
   "outputs": [
    {
     "data": {
      "text/plain": [
       "{0: [<JAVER.track_tools.Face at 0x7f01fde72910>,\n",
       "  <JAVER.track_tools.Face at 0x7f024d8e4a60>],\n",
       " 10: [<JAVER.track_tools.Face at 0x7f01fd67b9a0>,\n",
       "  <JAVER.track_tools.Face at 0x7f024d8e4610>],\n",
       " 20: [<JAVER.track_tools.Face at 0x7f0220177220>,\n",
       "  <JAVER.track_tools.Face at 0x7f0220177100>],\n",
       " 30: [<JAVER.track_tools.Face at 0x7f01fde945e0>],\n",
       " 40: [<JAVER.track_tools.Face at 0x7f01fde94d90>,\n",
       "  <JAVER.track_tools.Face at 0x7f01fde94e80>],\n",
       " 50: [<JAVER.track_tools.Face at 0x7f01fde946d0>,\n",
       "  <JAVER.track_tools.Face at 0x7f01fde94520>],\n",
       " 60: [<JAVER.track_tools.Face at 0x7f01fde943d0>,\n",
       "  <JAVER.track_tools.Face at 0x7f01fde94850>],\n",
       " 70: [<JAVER.track_tools.Face at 0x7f01fde94f10>,\n",
       "  <JAVER.track_tools.Face at 0x7f01fde94400>],\n",
       " 80: [<JAVER.track_tools.Face at 0x7f01fde94dc0>],\n",
       " 90: [<JAVER.track_tools.Face at 0x7f01fde94760>,\n",
       "  <JAVER.track_tools.Face at 0x7f01fde94b80>],\n",
       " 100: [<JAVER.track_tools.Face at 0x7f01fde943a0>,\n",
       "  <JAVER.track_tools.Face at 0x7f024d27e460>],\n",
       " 110: [<JAVER.track_tools.Face at 0x7f024d27eeb0>,\n",
       "  <JAVER.track_tools.Face at 0x7f024d27ed90>],\n",
       " 120: [<JAVER.track_tools.Face at 0x7f024d27e820>],\n",
       " 130: [<JAVER.track_tools.Face at 0x7f024d27e3d0>,\n",
       "  <JAVER.track_tools.Face at 0x7f024d27e520>],\n",
       " 140: [<JAVER.track_tools.Face at 0x7f024d27ed00>,\n",
       "  <JAVER.track_tools.Face at 0x7f024d27e430>],\n",
       " 150: [<JAVER.track_tools.Face at 0x7f024d27e7c0>,\n",
       "  <JAVER.track_tools.Face at 0x7f024d27e940>],\n",
       " 160: [<JAVER.track_tools.Face at 0x7f024d27e220>,\n",
       "  <JAVER.track_tools.Face at 0x7f024d27ea60>],\n",
       " 170: [<JAVER.track_tools.Face at 0x7f024d27e5b0>],\n",
       " 180: [<JAVER.track_tools.Face at 0x7f024d27eee0>,\n",
       "  <JAVER.track_tools.Face at 0x7f024d27ed30>],\n",
       " 190: [<JAVER.track_tools.Face at 0x7f024d27eca0>,\n",
       "  <JAVER.track_tools.Face at 0x7f024d27e9d0>],\n",
       " 200: [<JAVER.track_tools.Face at 0x7f024d27e1f0>,\n",
       "  <JAVER.track_tools.Face at 0x7f024d27e040>],\n",
       " 210: [<JAVER.track_tools.Face at 0x7f01fd6c2fd0>],\n",
       " 220: [<JAVER.track_tools.Face at 0x7f01fd6c2d60>,\n",
       "  <JAVER.track_tools.Face at 0x7f01fd6c2a00>],\n",
       " 230: [<JAVER.track_tools.Face at 0x7f01fd6c2af0>,\n",
       "  <JAVER.track_tools.Face at 0x7f01fd6c2e20>],\n",
       " 240: [<JAVER.track_tools.Face at 0x7f01fd6c2a30>,\n",
       "  <JAVER.track_tools.Face at 0x7f01fd6c2bb0>],\n",
       " 250: [<JAVER.track_tools.Face at 0x7f01fd6c2910>,\n",
       "  <JAVER.track_tools.Face at 0x7f01fd6c2b80>],\n",
       " 260: [<JAVER.track_tools.Face at 0x7f01fd6c29d0>],\n",
       " 270: [<JAVER.track_tools.Face at 0x7f01fd6c2f70>,\n",
       "  <JAVER.track_tools.Face at 0x7f01fd6c2880>],\n",
       " 280: [<JAVER.track_tools.Face at 0x7f01fd6c2610>,\n",
       "  <JAVER.track_tools.Face at 0x7f01fd6c2490>],\n",
       " 290: [<JAVER.track_tools.Face at 0x7f01fd6c2070>,\n",
       "  <JAVER.track_tools.Face at 0x7f01fd6c24c0>],\n",
       " 300: [<JAVER.track_tools.Face at 0x7f01fd6c2460>],\n",
       " 310: [<JAVER.track_tools.Face at 0x7f01fd6c2220>,\n",
       "  <JAVER.track_tools.Face at 0x7f01fd6c27f0>],\n",
       " 320: [<JAVER.track_tools.Face at 0x7f01fd6c2820>,\n",
       "  <JAVER.track_tools.Face at 0x7f01fdffc9d0>],\n",
       " 330: [<JAVER.track_tools.Face at 0x7f01fdffc670>,\n",
       "  <JAVER.track_tools.Face at 0x7f01fdffcf10>],\n",
       " 340: [<JAVER.track_tools.Face at 0x7f01fdffcac0>,\n",
       "  <JAVER.track_tools.Face at 0x7f01fdffcd00>],\n",
       " 350: [<JAVER.track_tools.Face at 0x7f01fdffca00>],\n",
       " 360: [<JAVER.track_tools.Face at 0x7f01fdffc430>,\n",
       "  <JAVER.track_tools.Face at 0x7f01fdffc160>],\n",
       " 370: [<JAVER.track_tools.Face at 0x7f01fdffc040>,\n",
       "  <JAVER.track_tools.Face at 0x7f01fdffcb80>],\n",
       " 380: [<JAVER.track_tools.Face at 0x7f01fdffc730>,\n",
       "  <JAVER.track_tools.Face at 0x7f01fdffcbb0>],\n",
       " 390: [<JAVER.track_tools.Face at 0x7f01fdffc7f0>],\n",
       " 400: [<JAVER.track_tools.Face at 0x7f01fdffc4f0>,\n",
       "  <JAVER.track_tools.Face at 0x7f01fdffcf40>],\n",
       " 410: [<JAVER.track_tools.Face at 0x7f01fe322a30>,\n",
       "  <JAVER.track_tools.Face at 0x7f01fe322b20>],\n",
       " 420: [<JAVER.track_tools.Face at 0x7f01fe322430>,\n",
       "  <JAVER.track_tools.Face at 0x7f01fe322e80>],\n",
       " 430: [<JAVER.track_tools.Face at 0x7f01fe322310>,\n",
       "  <JAVER.track_tools.Face at 0x7f01fe322ee0>],\n",
       " 440: [<JAVER.track_tools.Face at 0x7f01fd6c26d0>,\n",
       "  <JAVER.track_tools.Face at 0x7f01fe322460>],\n",
       " 450: [<JAVER.track_tools.Face at 0x7f01fe322fd0>,\n",
       "  <JAVER.track_tools.Face at 0x7f01fe322b80>],\n",
       " 460: [<JAVER.track_tools.Face at 0x7f01fdffcb50>,\n",
       "  <JAVER.track_tools.Face at 0x7f01fdffce80>,\n",
       "  <JAVER.track_tools.Face at 0x7f01fe322640>,\n",
       "  <JAVER.track_tools.Face at 0x7f01fe3225e0>],\n",
       " 470: [<JAVER.track_tools.Face at 0x7f01fdffc2e0>,\n",
       "  <JAVER.track_tools.Face at 0x7f01fdffc580>,\n",
       "  <JAVER.track_tools.Face at 0x7f01fe322730>,\n",
       "  <JAVER.track_tools.Face at 0x7f01fe322280>],\n",
       " 480: [<JAVER.track_tools.Face at 0x7f01fdffc5b0>,\n",
       "  <JAVER.track_tools.Face at 0x7f01fe322400>,\n",
       "  <JAVER.track_tools.Face at 0x7f01fe3222e0>],\n",
       " 490: [<JAVER.track_tools.Face at 0x7f01fdffcc40>,\n",
       "  <JAVER.track_tools.Face at 0x7f01fe322700>,\n",
       "  <JAVER.track_tools.Face at 0x7f01fe322760>],\n",
       " 500: [<JAVER.track_tools.Face at 0x7f01fe322550>,\n",
       "  <JAVER.track_tools.Face at 0x7f01fe3227c0>,\n",
       "  <JAVER.track_tools.Face at 0x7f02202f8190>],\n",
       " 510: [<JAVER.track_tools.Face at 0x7f02202f81c0>,\n",
       "  <JAVER.track_tools.Face at 0x7f02202f8a60>],\n",
       " 520: [<JAVER.track_tools.Face at 0x7f02202f82b0>,\n",
       "  <JAVER.track_tools.Face at 0x7f02202f8370>],\n",
       " 530: [<JAVER.track_tools.Face at 0x7f02202f8a30>],\n",
       " 540: [<JAVER.track_tools.Face at 0x7f02202f8760>,\n",
       "  <JAVER.track_tools.Face at 0x7f02202f82e0>],\n",
       " 550: [<JAVER.track_tools.Face at 0x7f02202f8250>,\n",
       "  <JAVER.track_tools.Face at 0x7f02202f8220>],\n",
       " 560: [<JAVER.track_tools.Face at 0x7f02202f8100>,\n",
       "  <JAVER.track_tools.Face at 0x7f02202f8070>],\n",
       " 570: [<JAVER.track_tools.Face at 0x7f02202f88e0>,\n",
       "  <JAVER.track_tools.Face at 0x7f02202f8bb0>],\n",
       " 580: [<JAVER.track_tools.Face at 0x7f02202f8f10>],\n",
       " 590: [<JAVER.track_tools.Face at 0x7f0228d3ea90>,\n",
       "  <JAVER.track_tools.Face at 0x7f0228d3e340>],\n",
       " 600: [<JAVER.track_tools.Face at 0x7f0228d3e5b0>,\n",
       "  <JAVER.track_tools.Face at 0x7f0228d3e640>],\n",
       " 610: [<JAVER.track_tools.Face at 0x7f0228d3ea60>,\n",
       "  <JAVER.track_tools.Face at 0x7f0228d3e4f0>],\n",
       " 620: [<JAVER.track_tools.Face at 0x7f0228d3ee20>],\n",
       " 630: [<JAVER.track_tools.Face at 0x7f0228d3e190>,\n",
       "  <JAVER.track_tools.Face at 0x7f0228d3eaf0>],\n",
       " 640: [<JAVER.track_tools.Face at 0x7f01fe322160>,\n",
       "  <JAVER.track_tools.Face at 0x7f02202f89a0>,\n",
       "  <JAVER.track_tools.Face at 0x7f0228d3e730>,\n",
       "  <JAVER.track_tools.Face at 0x7f0228d3ed60>],\n",
       " 650: [<JAVER.track_tools.Face at 0x7f02202f8490>,\n",
       "  <JAVER.track_tools.Face at 0x7f02202f88b0>,\n",
       "  <JAVER.track_tools.Face at 0x7f01fe3e2c40>,\n",
       "  <JAVER.track_tools.Face at 0x7f01fe3e2ac0>],\n",
       " 660: [<JAVER.track_tools.Face at 0x7f0228d3e490>,\n",
       "  <JAVER.track_tools.Face at 0x7f0228d3e3a0>,\n",
       "  <JAVER.track_tools.Face at 0x7f01fe3e20d0>,\n",
       "  <JAVER.track_tools.Face at 0x7f01fe3e27c0>,\n",
       "  <JAVER.track_tools.Face at 0x7f01fe3e2ca0>],\n",
       " 670: [<JAVER.track_tools.Face at 0x7f02202f8e50>,\n",
       "  <JAVER.track_tools.Face at 0x7f01fe3e2250>,\n",
       "  <JAVER.track_tools.Face at 0x7f01fe3e2220>],\n",
       " 680: [<JAVER.track_tools.Face at 0x7f0228d3e430>,\n",
       "  <JAVER.track_tools.Face at 0x7f01fe3e26d0>,\n",
       "  <JAVER.track_tools.Face at 0x7f01fe3e2a60>],\n",
       " 690: [<JAVER.track_tools.Face at 0x7f01fe3e29a0>],\n",
       " 700: [],\n",
       " 710: [<JAVER.track_tools.Face at 0x7f0228d3e2b0>],\n",
       " 720: [<JAVER.track_tools.Face at 0x7f01fe3e2400>,\n",
       "  <JAVER.track_tools.Face at 0x7f01fe3e2b20>],\n",
       " 730: [<JAVER.track_tools.Face at 0x7f01fe3e22e0>,\n",
       "  <JAVER.track_tools.Face at 0x7f01fe3e2730>,\n",
       "  <JAVER.track_tools.Face at 0x7f01fe3e2bb0>],\n",
       " 740: [<JAVER.track_tools.Face at 0x7f01fe3e2c70>,\n",
       "  <JAVER.track_tools.Face at 0x7f01fe3e2430>],\n",
       " 750: [<JAVER.track_tools.Face at 0x7f01fe3e21c0>,\n",
       "  <JAVER.track_tools.Face at 0x7f01fe3e2fa0>,\n",
       "  <JAVER.track_tools.Face at 0x7f01fe3e2160>,\n",
       "  <JAVER.track_tools.Face at 0x7f024e2bc550>],\n",
       " 760: [<JAVER.track_tools.Face at 0x7f024e2bce80>,\n",
       "  <JAVER.track_tools.Face at 0x7f024e2bc310>],\n",
       " 770: [<JAVER.track_tools.Face at 0x7f024e2bc6d0>,\n",
       "  <JAVER.track_tools.Face at 0x7f024e2bcd90>],\n",
       " 780: [<JAVER.track_tools.Face at 0x7f024e2bc850>],\n",
       " 790: [<JAVER.track_tools.Face at 0x7f024e2bce50>],\n",
       " 800: [],\n",
       " 810: [],\n",
       " 820: [],\n",
       " 830: [],\n",
       " 840: [],\n",
       " 850: [],\n",
       " 860: [],\n",
       " 870: [],\n",
       " 880: [],\n",
       " 890: []}"
      ]
     },
     "execution_count": 173,
     "metadata": {},
     "output_type": "execute_result"
    }
   ],
   "source": [
    "face_dict"
   ]
  },
  {
   "cell_type": "code",
   "execution_count": 176,
   "metadata": {
    "scrolled": true
   },
   "outputs": [
    {
     "ename": "KeyboardInterrupt",
     "evalue": "",
     "output_type": "error",
     "traceback": [
      "\u001b[0;31m---------------------------------------------------------------------------\u001b[0m",
      "\u001b[0;31mKeyboardInterrupt\u001b[0m                         Traceback (most recent call last)",
      "\u001b[0;32m<ipython-input-176-de1f19ca60e5>\u001b[0m in \u001b[0;36m<module>\u001b[0;34m\u001b[0m\n\u001b[1;32m      3\u001b[0m     \u001b[0;32mfor\u001b[0m \u001b[0mface\u001b[0m \u001b[0;32min\u001b[0m \u001b[0mfaces\u001b[0m\u001b[0;34m:\u001b[0m\u001b[0;34m\u001b[0m\u001b[0;34m\u001b[0m\u001b[0m\n\u001b[1;32m      4\u001b[0m         \u001b[0mI\u001b[0m\u001b[0;34m(\u001b[0m\u001b[0mface\u001b[0m\u001b[0;34m.\u001b[0m\u001b[0mface_img\u001b[0m\u001b[0;34m)\u001b[0m\u001b[0;34m\u001b[0m\u001b[0;34m\u001b[0m\u001b[0m\n\u001b[0;32m----> 5\u001b[0;31m         \u001b[0msleep\u001b[0m\u001b[0;34m(\u001b[0m\u001b[0;36m3\u001b[0m\u001b[0;34m)\u001b[0m\u001b[0;34m\u001b[0m\u001b[0;34m\u001b[0m\u001b[0m\n\u001b[0m",
      "\u001b[0;31mKeyboardInterrupt\u001b[0m: "
     ]
    }
   ],
   "source": [
    "from time import sleep\n",
    "for idx, faces in face_dict.items():\n",
    "    for face in faces:\n",
    "        I(face.face_img)\n",
    "        sleep(3)\n"
   ]
  },
  {
   "cell_type": "code",
   "execution_count": 7,
   "metadata": {},
   "outputs": [
    {
     "ename": "NameError",
     "evalue": "name 'MTCNN' is not defined",
     "output_type": "error",
     "traceback": [
      "\u001b[0;31m---------------------------------------------------------------------------\u001b[0m",
      "\u001b[0;31mNameError\u001b[0m                                 Traceback (most recent call last)",
      "\u001b[0;32m<ipython-input-7-a182d63e8d93>\u001b[0m in \u001b[0;36m<module>\u001b[0;34m\u001b[0m\n\u001b[0;32m----> 1\u001b[0;31m \u001b[0mmtcnn\u001b[0m \u001b[0;34m=\u001b[0m \u001b[0mMTCNN\u001b[0m\u001b[0;34m(\u001b[0m\u001b[0mimage_size\u001b[0m\u001b[0;34m=\u001b[0m\u001b[0mimage_size\u001b[0m\u001b[0;34m,\u001b[0m \u001b[0mkeep_all\u001b[0m\u001b[0;34m=\u001b[0m\u001b[0;32mTrue\u001b[0m\u001b[0;34m,\u001b[0m \u001b[0mdevice\u001b[0m\u001b[0;34m=\u001b[0m\u001b[0mdevice\u001b[0m\u001b[0;34m)\u001b[0m\u001b[0;34m\u001b[0m\u001b[0;34m\u001b[0m\u001b[0m\n\u001b[0m\u001b[1;32m      2\u001b[0m \u001b[0mresnet\u001b[0m \u001b[0;34m=\u001b[0m \u001b[0mInceptionResnetV1\u001b[0m\u001b[0;34m(\u001b[0m\u001b[0mpretrained\u001b[0m\u001b[0;34m=\u001b[0m\u001b[0;34m'vggface2'\u001b[0m\u001b[0;34m)\u001b[0m\u001b[0;34m.\u001b[0m\u001b[0meval\u001b[0m\u001b[0;34m(\u001b[0m\u001b[0;34m)\u001b[0m\u001b[0;34m.\u001b[0m\u001b[0mto\u001b[0m\u001b[0;34m(\u001b[0m\u001b[0mdevice\u001b[0m\u001b[0;34m)\u001b[0m\u001b[0;34m\u001b[0m\u001b[0;34m\u001b[0m\u001b[0m\n",
      "\u001b[0;31mNameError\u001b[0m: name 'MTCNN' is not defined"
     ]
    }
   ],
   "source": [
    "def format_input(X, y):\n",
    "    X = [X[np.where(y==t)] for t in np.unique(y)]\n",
    "    return X, np.unique(y)\n",
    "face\n",
    "in_paths = glob.glob(r'./notebooks/single_person_results/embeddings/*/*.npy')"
   ]
  },
  {
   "cell_type": "code",
   "execution_count": 13,
   "metadata": {
    "scrolled": true
   },
   "outputs": [],
   "source": [
    "# load reference face\n",
    "x, y = np.zeros((0,512)), []\n",
    "for path in in_paths:\n",
    "    label = 1 if os.path.basename(os.path.dirname(path)) == query else 0\n",
    "    x = np.vstack((x, np.load(path)))\n",
    "    y.append(label)\n",
    "\n",
    "# use SM for face matching\n",
    "SM = SubspaceMethod(n_subdims=5)\n",
    "SM.fit(*format_input(x, y))"
   ]
  },
  {
   "cell_type": "code",
   "execution_count": 12,
   "metadata": {},
   "outputs": [],
   "source": []
  },
  {
   "cell_type": "code",
   "execution_count": 34,
   "metadata": {},
   "outputs": [],
   "source": [
    "# Initialize face tracker\n",
    "face_tracker = track_tools.FaceTracker(image_size=160, batch_size=100, step=100)"
   ]
  },
  {
   "cell_type": "code",
   "execution_count": null,
   "metadata": {},
   "outputs": [],
   "source": [
    "# Get boundary boxes for each frame\n",
    "bboxes = face_tracker.track(\n",
    "    video_path=cropped_video_path, reference_images=reference_image_paths)"
   ]
  },
  {
   "cell_type": "code",
   "execution_count": null,
   "metadata": {},
   "outputs": [],
   "source": [
    "tqdm._instances.clear()\n",
    "\n",
    "# init loop\n",
    "vid.set_image_index(0)\n",
    "\n",
    "batch_size = 100\n",
    "image_batch = []\n",
    "\n",
    "# loop video framesa\n",
    "for i in tqdm(range(0, n_frames, batch_size), total=n_frames):   \n",
    "    \n",
    "    image = vid.get_next_data()\n",
    "    if i % batch_size == 0:\n",
    "        image_batch.append(image)\n",
    "\n",
    "    if len(image_batch) == batch_size:\n",
    "        boxes, probs = track_tools.mtcnn(images=image_batch)\n",
    "        \n",
    "        if l := probs.co:\n",
    "            print(probs)\n",
    "            break\n",
    "        image_batch = []\n",
    "        \n",
    "    for _ in range(batch_size):\n",
    "        pass\n",
    "    \n",
    "    pass\n",
    "\n",
    "#         image = Image.fromarray(im)\n",
    "#         ret_dict = utils.crop_faces(images=[image], return_values=['bboxes', 'rois'])\n",
    "        \n",
    "#         bboxes = ret_dict['bboxes']\n",
    "#         rois = ret_dict['rois']\n",
    "#         embeddings = utils.embed_faces(images=rois, return_values='embeddings')['embeddings']\n",
    "#         assert len(bboxes) == len(embeddings)\n",
    "\n",
    "#         draw = ImageDraw.Draw(image)\n",
    "\n",
    "#         for n in range(len(bboxes)):\n",
    "            \n",
    "#             bbox = bboxes[n]\n",
    "#             x1,y1,x2,y2 =bboggggggggggggggggggggx\n",
    "#             roi = rois[n]\n",
    "#             embedding = embeddings[n]\n",
    "\n",
    "#             proba = SM.predict_proba(embedding).squeeze()\n",
    "#             text = 'proba: {0}\\n {1}'.format(proba, 'Elon' if proba >= 0.7 else 'Not Elon')\n",
    "#             font = ImageFont.truetype(\"/usr/share/fonts/truetype/freefont/FreeMono.ttf\", 18, encoding=\"unic\")\n",
    "\n",
    "#             rect = (x1, y1, x1, y2, x2, y2, x2,y1, x1, y1)\n",
    "#             draw.line(rect, width=5, fill='Red')\n",
    "#             draw.text(xy=(x1, y1), text=text, fill='white', font=font)\n",
    "            \n",
    "#         image.save('./notebooks/single_person_results/video_frames/Elon Musk/' +str(i).zfill(6)+ \".png\", \"png\")"
   ]
  },
  {
   "cell_type": "code",
   "execution_count": null,
   "metadata": {},
   "outputs": [],
   "source": [
    "#         vid_writer.write(np.asarray(image))\n",
    "#     if i!=0 and i % 1000 == 0:\n",
    "#         break\n",
    "# vid_writer.release()\n",
    "\n",
    "\n",
    "#                 if prev_bbox is None:\n",
    "#                     if len(embeddings) == 1:\n",
    "                        \n",
    "#                         if SM.predict(embeddings):\n",
    "#                             text = 'proba: {0}, {1}'.format(proba, 'Elon' if proba < 0.8 else 'Not Elon')\n",
    "#                     else:\n",
    "#                         continue                \n",
    "#                 else:                \n",
    "#                     candidate_idx = np.where(SM.predict(embeddings)==1)\n",
    "#                     candidate_rois = rois[candidate_idx]\n",
    "#                     candidate_bboxes = bboxes[candidate_idx]\n",
    "#                     print(candidate_bboxes)\n",
    "\n",
    "            # TODO Add chunk to list\n",
    "#             print('Mean of frame {0} is {1}, {2}, {3}'.format(i, im.mean(), type(im), im.shape))\n",
    "\n",
    "            # TODO: face detection\n",
    "            # Get list of all face bboxes in one frame\n",
    "#             \n",
    "\n",
    "            # TODO: Association with IoU and Embeddings\n",
    "\n",
    "\n",
    "            # TODO Add chunk to list\n",
    "\n",
    "        # TODO split vid to chunks\n"
   ]
  },
  {
   "cell_type": "code",
   "execution_count": null,
   "metadata": {},
   "outputs": [],
   "source": [
    "image_folder = './notebooks/single_person_results/video_frames/Elon Musk'\n",
    "video_name = './notebooks/single_person_results/movie.avi'\n",
    "\n",
    "images = sorted([img for img in os.listdir(image_folder) if img.endswith(\".png\")])\n",
    "frame = cv2.imread(os.path.join(image_folder, images[0]))\n",
    "height, width, layers = frame.shape\n",
    "\n",
    "fourcc = cv2.VideoWriter_fourcc(*'mp4v')\n",
    "video = cv2.VideoWriter(video_name, fourcc, 25, (width,height))\n",
    "\n",
    "for i in tqdm(range(len(images))):\n",
    "    image = images[i]\n",
    "    video.write(cv2.imread(os.path.join(image_folder, image)))\n",
    "\n",
    "cv2.destroyAllWindows()\n",
    "video.release()"
   ]
  },
  {
   "cell_type": "code",
   "execution_count": null,
   "metadata": {},
   "outputs": [],
   "source": [
    "paths = glob.glob('./notebooks/single_person_results/new_vid_frames/Elon Musk/*')\n",
    "atomity.browse_images(paths);"
   ]
  },
  {
   "cell_type": "code",
   "execution_count": null,
   "metadata": {},
   "outputs": [],
   "source": []
  }
 ],
 "metadata": {
  "kernelspec": {
   "display_name": "Python 3",
   "language": "python",
   "name": "python3"
  },
  "language_info": {
   "codemirror_mode": {
    "name": "ipython",
    "version": 3
   },
   "file_extension": ".py",
   "mimetype": "text/x-python",
   "name": "python",
   "nbconvert_exporter": "python",
   "pygments_lexer": "ipython3",
   "version": "3.8.1"
  }
 },
 "nbformat": 4,
 "nbformat_minor": 4
}
