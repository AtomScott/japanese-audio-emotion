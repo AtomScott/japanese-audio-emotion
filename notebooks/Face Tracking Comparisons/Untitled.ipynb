{
 "cells": [
  {
   "cell_type": "code",
   "execution_count": 5,
   "metadata": {},
   "outputs": [],
   "source": [
    "%load_ext autoreload\n",
    "%autoreload 2"
   ]
  },
  {
   "cell_type": "code",
   "execution_count": 4,
   "metadata": {},
   "outputs": [
    {
     "ename": "ModuleNotFoundError",
     "evalue": "No module named 'JAVER.logger'",
     "output_type": "error",
     "traceback": [
      "\u001b[0;31m---------------------------------------------------------------------------\u001b[0m",
      "\u001b[0;31mModuleNotFoundError\u001b[0m                       Traceback (most recent call last)",
      "\u001b[0;32m<ipython-input-4-eb1305a94f30>\u001b[0m in \u001b[0;36m<module>\u001b[0;34m\u001b[0m\n\u001b[1;32m     22\u001b[0m     \u001b[0mlogging\u001b[0m\u001b[0;34m.\u001b[0m\u001b[0mgetLogger\u001b[0m\u001b[0;34m(\u001b[0m\u001b[0mname\u001b[0m\u001b[0;34m)\u001b[0m\u001b[0;34m.\u001b[0m\u001b[0msetLevel\u001b[0m\u001b[0;34m(\u001b[0m\u001b[0;34m\"CRITICAL\"\u001b[0m\u001b[0;34m)\u001b[0m\u001b[0;34m\u001b[0m\u001b[0;34m\u001b[0m\u001b[0m\n\u001b[1;32m     23\u001b[0m \u001b[0;34m\u001b[0m\u001b[0m\n\u001b[0;32m---> 24\u001b[0;31m \u001b[0;32mfrom\u001b[0m \u001b[0mJAVER\u001b[0m\u001b[0;34m.\u001b[0m\u001b[0mlogger\u001b[0m \u001b[0;32mimport\u001b[0m \u001b[0mcreate_logger\u001b[0m\u001b[0;34m\u001b[0m\u001b[0;34m\u001b[0m\u001b[0m\n\u001b[0m\u001b[1;32m     25\u001b[0m \u001b[0mlogger\u001b[0m \u001b[0;34m=\u001b[0m \u001b[0mcreate_logger\u001b[0m\u001b[0;34m(\u001b[0m\u001b[0mlevel\u001b[0m\u001b[0;34m=\u001b[0m\u001b[0;34m'DEBUG'\u001b[0m\u001b[0;34m)\u001b[0m\u001b[0;34m\u001b[0m\u001b[0;34m\u001b[0m\u001b[0m\n\u001b[1;32m     26\u001b[0m \u001b[0mlogger\u001b[0m\u001b[0;34m.\u001b[0m\u001b[0msetLevel\u001b[0m\u001b[0;34m(\u001b[0m\u001b[0;34m'INFO'\u001b[0m\u001b[0;34m)\u001b[0m\u001b[0;34m\u001b[0m\u001b[0;34m\u001b[0m\u001b[0m\n",
      "\u001b[0;31mModuleNotFoundError\u001b[0m: No module named 'JAVER.logger'"
     ]
    }
   ],
   "source": [
    "# dependencies`\n",
    "from facenet_pytorch import MTCNN\n",
    "import torch\n",
    "import numpy as np\n",
    "import itertools as it\n",
    "import mmcv, cv2\n",
    "import matplotlib.pyplot as plt\n",
    "\n",
    "from IPython.display import Video\n",
    "from scipy.linalg import block_diag\n",
    "from scipy.optimize import linear_sum_assignment\n",
    "from PIL import Image, ImageDraw\n",
    "from IPython import display\n",
    "from pathlib import Path\n",
    "from time import time\n",
    "from scipy.spatial.distance import mahalanobis\n",
    "from JAVER.track_tools.frame_handler import FrameHandler\n",
    "from JAVER.track_tools.face_tracker import FaceTracker\n",
    "\n",
    "import logging\n",
    "for name in logging.root.manager.loggerDict:\n",
    "    logging.getLogger(name).setLevel(\"CRITICAL\") \n",
    "    \n",
    "from JAVER.logger import create_logger\n",
    "logger = create_logger(level='DEBUG')\n",
    "logger.setLevel('INFO')"
   ]
  },
  {
   "cell_type": "code",
   "execution_count": 24,
   "metadata": {},
   "outputs": [],
   "source": [
    "video_path = '../../tests/data/Elon Musk/multi_person_jre.mp4'"
   ]
  },
  {
   "cell_type": "code",
   "execution_count": 25,
   "metadata": {},
   "outputs": [
    {
     "name": "stderr",
     "output_type": "stream",
     "text": [
      "[2020-04-19 18:49:08,597] \u001b[32mINFO @ line 393: Rollback to 0\u001b[0m\n",
      "[2020-04-19 18:49:08,608] \u001b[33mWARNING @ line 280: Step size too big!!\u001b[0m\n",
      "[2020-04-19 18:50:58,605] \u001b[32mINFO @ line 421: Finished Tracking\u001b[0m\n"
     ]
    }
   ],
   "source": [
    "# setup face tracker\n",
    "p = Path(\"../../tests/data/Elon Musk/\")\n",
    "ref_paths = list(p.glob(\"inliers/*\"))\n",
    "\n",
    "face_tracker = FaceTracker(\n",
    "    image_size=160, \n",
    "    ref_paths=ref_paths, \n",
    "    batch_size=8, \n",
    "    step_large=150, \n",
    "    step_small=10\n",
    ")\n",
    "\n",
    "faces_dict = face_tracker.detect(video_path)"
   ]
  },
  {
   "cell_type": "code",
   "execution_count": 26,
   "metadata": {},
   "outputs": [
    {
     "ename": "AssertionError",
     "evalue": "",
     "output_type": "error",
     "traceback": [
      "\u001b[0;31m---------------------------------------------------------------------------\u001b[0m",
      "\u001b[0;31mAssertionError\u001b[0m                            Traceback (most recent call last)",
      "\u001b[0;32m<ipython-input-26-5a1249df8c18>\u001b[0m in \u001b[0;36m<module>\u001b[0;34m\u001b[0m\n\u001b[0;32m----> 1\u001b[0;31m \u001b[0mtracks\u001b[0m \u001b[0;34m=\u001b[0m \u001b[0mface_tracker\u001b[0m\u001b[0;34m.\u001b[0m\u001b[0massociate\u001b[0m\u001b[0;34m(\u001b[0m\u001b[0mfaces_dict\u001b[0m\u001b[0;34m)\u001b[0m\u001b[0;34m\u001b[0m\u001b[0;34m\u001b[0m\u001b[0m\n\u001b[0m",
      "\u001b[0;32m~/emotion/JAVER/track_tools.py\u001b[0m in \u001b[0;36massociate\u001b[0;34m(self, faces_dict)\u001b[0m\n\u001b[1;32m    467\u001b[0m             \u001b[0;32mif\u001b[0m \u001b[0m_\u001b[0m\u001b[0;34m:\u001b[0m  \u001b[0;31m# except first case\u001b[0m\u001b[0;34m\u001b[0m\u001b[0;34m\u001b[0m\u001b[0m\n\u001b[1;32m    468\u001b[0m \u001b[0;34m\u001b[0m\u001b[0m\n\u001b[0;32m--> 469\u001b[0;31m                 \u001b[0mC\u001b[0m \u001b[0;34m=\u001b[0m \u001b[0massociation_cost_matrix\u001b[0m\u001b[0;34m(\u001b[0m\u001b[0mfaces\u001b[0m\u001b[0;34m,\u001b[0m \u001b[0mtracks_alive\u001b[0m\u001b[0;34m,\u001b[0m \u001b[0mlam\u001b[0m\u001b[0;34m)\u001b[0m\u001b[0;34m\u001b[0m\u001b[0;34m\u001b[0m\u001b[0m\n\u001b[0m\u001b[1;32m    470\u001b[0m                 \u001b[0mG\u001b[0m \u001b[0;34m=\u001b[0m \u001b[0mgate_matrix\u001b[0m\u001b[0;34m(\u001b[0m\u001b[0mfaces\u001b[0m\u001b[0;34m,\u001b[0m \u001b[0mtracks_alive\u001b[0m\u001b[0;34m,\u001b[0m \u001b[0mthresh_1\u001b[0m\u001b[0;34m,\u001b[0m \u001b[0mthresh_2\u001b[0m\u001b[0;34m)\u001b[0m \u001b[0;34m+\u001b[0m \u001b[0msalt\u001b[0m\u001b[0;34m\u001b[0m\u001b[0;34m\u001b[0m\u001b[0m\n\u001b[1;32m    471\u001b[0m                 \u001b[0mgated_cost_matrix\u001b[0m \u001b[0;34m=\u001b[0m \u001b[0mC\u001b[0m \u001b[0;34m/\u001b[0m \u001b[0mG\u001b[0m\u001b[0;34m\u001b[0m\u001b[0;34m\u001b[0m\u001b[0m\n",
      "\u001b[0;32m~/emotion/JAVER/track_tools.py\u001b[0m in \u001b[0;36massociation_cost_matrix\u001b[0;34m(faces, tracks, lam)\u001b[0m\n\u001b[1;32m     62\u001b[0m     \u001b[0mC\u001b[0m \u001b[0;34m=\u001b[0m \u001b[0mnp\u001b[0m\u001b[0;34m.\u001b[0m\u001b[0mzeros\u001b[0m\u001b[0;34m(\u001b[0m\u001b[0;34m(\u001b[0m\u001b[0mn_faces\u001b[0m\u001b[0;34m,\u001b[0m \u001b[0mn_tracks\u001b[0m\u001b[0;34m)\u001b[0m\u001b[0;34m)\u001b[0m\u001b[0;34m\u001b[0m\u001b[0;34m\u001b[0m\u001b[0m\n\u001b[1;32m     63\u001b[0m     \u001b[0;32mfor\u001b[0m \u001b[0mi\u001b[0m\u001b[0;34m,\u001b[0m \u001b[0mj\u001b[0m \u001b[0;32min\u001b[0m \u001b[0mit\u001b[0m\u001b[0;34m.\u001b[0m\u001b[0mproduct\u001b[0m\u001b[0;34m(\u001b[0m\u001b[0mrange\u001b[0m\u001b[0;34m(\u001b[0m\u001b[0mn_faces\u001b[0m\u001b[0;34m)\u001b[0m\u001b[0;34m,\u001b[0m \u001b[0mrange\u001b[0m\u001b[0;34m(\u001b[0m\u001b[0mn_tracks\u001b[0m\u001b[0;34m)\u001b[0m\u001b[0;34m)\u001b[0m\u001b[0;34m:\u001b[0m\u001b[0;34m\u001b[0m\u001b[0;34m\u001b[0m\u001b[0m\n\u001b[0;32m---> 64\u001b[0;31m         \u001b[0mC\u001b[0m\u001b[0;34m[\u001b[0m\u001b[0mi\u001b[0m\u001b[0;34m,\u001b[0m \u001b[0mj\u001b[0m\u001b[0;34m]\u001b[0m \u001b[0;34m=\u001b[0m \u001b[0mlam\u001b[0m \u001b[0;34m*\u001b[0m \u001b[0m_d_1\u001b[0m\u001b[0;34m(\u001b[0m\u001b[0mfaces\u001b[0m\u001b[0;34m[\u001b[0m\u001b[0mi\u001b[0m\u001b[0;34m]\u001b[0m\u001b[0;34m,\u001b[0m \u001b[0mtracks\u001b[0m\u001b[0;34m[\u001b[0m\u001b[0mj\u001b[0m\u001b[0;34m]\u001b[0m\u001b[0;34m)\u001b[0m \u001b[0;34m+\u001b[0m \u001b[0;34m(\u001b[0m\u001b[0;36m1\u001b[0m \u001b[0;34m-\u001b[0m \u001b[0mlam\u001b[0m\u001b[0;34m)\u001b[0m \u001b[0;34m*\u001b[0m \u001b[0m_d_2\u001b[0m\u001b[0;34m(\u001b[0m\u001b[0mfaces\u001b[0m\u001b[0;34m[\u001b[0m\u001b[0mi\u001b[0m\u001b[0;34m]\u001b[0m\u001b[0;34m,\u001b[0m \u001b[0mtracks\u001b[0m\u001b[0;34m[\u001b[0m\u001b[0mj\u001b[0m\u001b[0;34m]\u001b[0m\u001b[0;34m)\u001b[0m\u001b[0;34m\u001b[0m\u001b[0;34m\u001b[0m\u001b[0m\n\u001b[0m\u001b[1;32m     65\u001b[0m     \u001b[0;32mreturn\u001b[0m \u001b[0mC\u001b[0m\u001b[0;34m\u001b[0m\u001b[0;34m\u001b[0m\u001b[0m\n\u001b[1;32m     66\u001b[0m \u001b[0;34m\u001b[0m\u001b[0m\n",
      "\u001b[0;32m~/emotion/JAVER/track_tools.py\u001b[0m in \u001b[0;36m_d_2\u001b[0;34m(face, track)\u001b[0m\n\u001b[1;32m     52\u001b[0m         \u001b[0mr_i\u001b[0m \u001b[0;34m=\u001b[0m \u001b[0m_face\u001b[0m\u001b[0;34m.\u001b[0m\u001b[0membedding\u001b[0m\u001b[0;34m\u001b[0m\u001b[0;34m\u001b[0m\u001b[0m\n\u001b[1;32m     53\u001b[0m         \u001b[0mr_j_dist\u001b[0m \u001b[0;34m=\u001b[0m \u001b[0mr_j\u001b[0m\u001b[0;34m.\u001b[0m\u001b[0mT\u001b[0m \u001b[0;34m@\u001b[0m \u001b[0mr_i\u001b[0m\u001b[0;34m\u001b[0m\u001b[0;34m\u001b[0m\u001b[0m\n\u001b[0;32m---> 54\u001b[0;31m         \u001b[0;32massert\u001b[0m \u001b[0;36m0\u001b[0m \u001b[0;34m<=\u001b[0m \u001b[0mr_j_dist\u001b[0m \u001b[0;34m<=\u001b[0m \u001b[0;36m1\u001b[0m\u001b[0;34m\u001b[0m\u001b[0;34m\u001b[0m\u001b[0m\n\u001b[0m\u001b[1;32m     55\u001b[0m         \u001b[0mdist\u001b[0m \u001b[0;34m=\u001b[0m \u001b[0mmin\u001b[0m\u001b[0;34m(\u001b[0m\u001b[0mdist\u001b[0m\u001b[0;34m,\u001b[0m \u001b[0mr_j_dist\u001b[0m\u001b[0;34m)\u001b[0m\u001b[0;34m\u001b[0m\u001b[0;34m\u001b[0m\u001b[0m\n\u001b[1;32m     56\u001b[0m     \u001b[0;32mreturn\u001b[0m \u001b[0;36m1\u001b[0m \u001b[0;34m-\u001b[0m \u001b[0mdist\u001b[0m\u001b[0;34m\u001b[0m\u001b[0;34m\u001b[0m\u001b[0m\n",
      "\u001b[0;31mAssertionError\u001b[0m: "
     ]
    }
   ],
   "source": [
    "tracks = face_tracker.associate(faces_dict)"
   ]
  },
  {
   "cell_type": "code",
   "execution_count": null,
   "metadata": {},
   "outputs": [],
   "source": []
  },
  {
   "cell_type": "code",
   "execution_count": 21,
   "metadata": {},
   "outputs": [],
   "source": [
    "from moviepy.editor import VideoFileClip\n",
    "\n",
    "def moving_crop(clip,fx,fy, size=(160,160)):\n",
    "    def scale(im, nR, nC):\n",
    "        nR0 = len(im)     # source number of rows \n",
    "        nC0 = len(im[0])  # source number of columns \n",
    "        return np.asarray([[ im[int(nR0 * r / nR)][int(nC0 * c / nC)]  \n",
    "                 for c in range(nC)] for r in range(nR)])\n",
    "\n",
    "    def fl(gf,t):\n",
    "        im = gf(t)\n",
    "\n",
    "        x1,x2 = list(map(int, fx(int(t*25))))\n",
    "        y1,y2 = list(map(int, fy(int(t*25))))\n",
    "\n",
    "        return scale(im[y1:y2, x1:x2], 160, 160)\n",
    "    \n",
    "    return clip.fl(fl)"
   ]
  },
  {
   "cell_type": "code",
   "execution_count": 30,
   "metadata": {},
   "outputs": [
    {
     "name": "stderr",
     "output_type": "stream",
     "text": [
      "t:   6%|▌         | 261/4525 [00:35<04:23, 16.18it/s, now=None]"
     ]
    },
    {
     "name": "stdout",
     "output_type": "stream",
     "text": [
      "Moviepy - Building video ani.mp4.\n",
      "MoviePy - Writing audio in aniTEMP_MPY_wvf_snd.mp3\n"
     ]
    },
    {
     "name": "stderr",
     "output_type": "stream",
     "text": [
      "\n",
      "chunk:   0%|          | 0/221 [00:00<?, ?it/s, now=None]\u001b[A\n",
      "chunk:  14%|█▍        | 32/221 [00:00<00:00, 302.70it/s, now=None]\u001b[A\n",
      "chunk:  28%|██▊       | 62/221 [00:00<00:00, 297.10it/s, now=None]\u001b[A\n",
      "chunk:  41%|████      | 91/221 [00:00<00:00, 292.70it/s, now=None]\u001b[A\n",
      "chunk:  56%|█████▌    | 124/221 [00:00<00:00, 299.91it/s, now=None]\u001b[A\n",
      "chunk:  69%|██████▉   | 153/221 [00:00<00:00, 293.38it/s, now=None]\u001b[A\n",
      "chunk:  83%|████████▎ | 183/221 [00:00<00:00, 292.03it/s, now=None]\u001b[A\n",
      "chunk:  96%|█████████▋| 213/221 [00:00<00:00, 294.26it/s, now=None]\u001b[A\n",
      "t:   6%|▌         | 261/4525 [00:36<04:23, 16.18it/s, now=None]    \u001b[A"
     ]
    },
    {
     "name": "stdout",
     "output_type": "stream",
     "text": [
      "MoviePy - Done.\n",
      "Moviepy - Writing video ani.mp4\n",
      "\n"
     ]
    },
    {
     "name": "stderr",
     "output_type": "stream",
     "text": [
      "\n",
      "t:   0%|          | 0/250 [00:00<?, ?it/s, now=None]\u001b[A\n",
      "t:   1%|          | 3/250 [00:00<00:10, 23.01it/s, now=None]\u001b[A\n",
      "t:   2%|▏         | 5/250 [00:00<00:12, 20.11it/s, now=None]\u001b[A\n",
      "t:   3%|▎         | 7/250 [00:00<00:13, 18.36it/s, now=None]\u001b[A\n",
      "t:   4%|▎         | 9/250 [00:00<00:14, 17.05it/s, now=None]\u001b[A\n",
      "t:   4%|▍         | 11/250 [00:00<00:14, 16.03it/s, now=None]\u001b[A\n",
      "t:   5%|▌         | 13/250 [00:00<00:14, 15.89it/s, now=None]\u001b[A\n",
      "t:   6%|▌         | 15/250 [00:00<00:14, 16.02it/s, now=None]\u001b[A\n",
      "t:   7%|▋         | 17/250 [00:01<00:14, 16.10it/s, now=None]\u001b[A\n",
      "t:   8%|▊         | 19/250 [00:01<00:14, 16.03it/s, now=None]\u001b[A\n",
      "t:   8%|▊         | 21/250 [00:01<00:14, 16.06it/s, now=None]\u001b[A\n",
      "t:   9%|▉         | 23/250 [00:01<00:14, 16.11it/s, now=None]\u001b[A\n",
      "t:  10%|█         | 25/250 [00:01<00:13, 16.44it/s, now=None]\u001b[A\n",
      "t:  11%|█         | 27/250 [00:01<00:13, 16.61it/s, now=None]\u001b[A\n",
      "t:  12%|█▏        | 29/250 [00:01<00:13, 16.55it/s, now=None]\u001b[A\n",
      "t:  12%|█▏        | 31/250 [00:01<00:13, 16.59it/s, now=None]\u001b[A\n",
      "t:  13%|█▎        | 33/250 [00:02<00:13, 16.48it/s, now=None]\u001b[A\n",
      "t:  14%|█▍        | 35/250 [00:02<00:12, 16.57it/s, now=None]\u001b[A\n",
      "t:  15%|█▍        | 37/250 [00:02<00:12, 16.59it/s, now=None]\u001b[A\n",
      "t:  16%|█▌        | 39/250 [00:02<00:12, 16.46it/s, now=None]\u001b[A\n",
      "t:  16%|█▋        | 41/250 [00:02<00:12, 16.57it/s, now=None]\u001b[A\n",
      "t:  17%|█▋        | 43/250 [00:02<00:12, 16.38it/s, now=None]\u001b[A\n",
      "t:  18%|█▊        | 45/250 [00:02<00:12, 16.61it/s, now=None]\u001b[A\n",
      "t:  19%|█▉        | 47/250 [00:02<00:12, 16.88it/s, now=None]\u001b[A\n",
      "t:  20%|█▉        | 49/250 [00:02<00:11, 16.84it/s, now=None]\u001b[A\n",
      "t:  20%|██        | 51/250 [00:03<00:11, 16.95it/s, now=None]\u001b[A\n",
      "t:  21%|██        | 53/250 [00:03<00:11, 16.98it/s, now=None]\u001b[A\n",
      "t:  22%|██▏       | 55/250 [00:03<00:11, 17.14it/s, now=None]\u001b[A\n",
      "t:  23%|██▎       | 57/250 [00:03<00:11, 17.02it/s, now=None]\u001b[A\n",
      "t:  24%|██▎       | 59/250 [00:03<00:11, 17.03it/s, now=None]\u001b[A\n",
      "t:  24%|██▍       | 61/250 [00:03<00:10, 17.19it/s, now=None]\u001b[A\n",
      "t:  25%|██▌       | 63/250 [00:03<00:11, 16.94it/s, now=None]\u001b[A\n",
      "t:  26%|██▌       | 65/250 [00:03<00:10, 17.06it/s, now=None]\u001b[A\n",
      "t:  27%|██▋       | 67/250 [00:04<00:10, 17.18it/s, now=None]\u001b[A\n",
      "t:  28%|██▊       | 69/250 [00:04<00:10, 16.86it/s, now=None]\u001b[A\n",
      "t:  28%|██▊       | 71/250 [00:04<00:10, 17.07it/s, now=None]\u001b[A\n",
      "t:  29%|██▉       | 73/250 [00:04<00:10, 16.95it/s, now=None]\u001b[A\n",
      "t:  30%|███       | 75/250 [00:04<00:10, 17.09it/s, now=None]\u001b[A\n",
      "t:  31%|███       | 77/250 [00:04<00:10, 16.86it/s, now=None]\u001b[A\n",
      "t:  32%|███▏      | 79/250 [00:04<00:10, 16.83it/s, now=None]\u001b[A\n",
      "t:  32%|███▏      | 81/250 [00:04<00:10, 16.63it/s, now=None]\u001b[A\n",
      "t:  33%|███▎      | 83/250 [00:04<00:10, 16.43it/s, now=None]\u001b[A\n",
      "t:  34%|███▍      | 85/250 [00:05<00:09, 16.72it/s, now=None]\u001b[A\n",
      "t:  35%|███▍      | 87/250 [00:05<00:09, 16.67it/s, now=None]\u001b[A\n",
      "t:  36%|███▌      | 89/250 [00:05<00:09, 16.73it/s, now=None]\u001b[A\n",
      "t:  36%|███▋      | 91/250 [00:05<00:09, 16.35it/s, now=None]\u001b[A\n",
      "t:  37%|███▋      | 93/250 [00:05<00:09, 16.45it/s, now=None]\u001b[A\n",
      "t:  38%|███▊      | 95/250 [00:05<00:09, 16.17it/s, now=None]\u001b[A\n",
      "t:  39%|███▉      | 97/250 [00:05<00:09, 15.94it/s, now=None]\u001b[A\n",
      "t:  40%|███▉      | 99/250 [00:05<00:09, 16.17it/s, now=None]\u001b[A\n",
      "t:  40%|████      | 101/250 [00:06<00:09, 15.84it/s, now=None]\u001b[A\n",
      "t:  41%|████      | 103/250 [00:06<00:09, 16.05it/s, now=None]\u001b[A\n",
      "t:  42%|████▏     | 105/250 [00:06<00:09, 15.78it/s, now=None]\u001b[A\n",
      "t:  43%|████▎     | 107/250 [00:06<00:08, 16.13it/s, now=None]\u001b[A\n",
      "t:  44%|████▎     | 109/250 [00:06<00:08, 16.37it/s, now=None]\u001b[A\n",
      "t:  44%|████▍     | 111/250 [00:06<00:08, 16.27it/s, now=None]\u001b[A\n",
      "t:  45%|████▌     | 113/250 [00:06<00:08, 16.40it/s, now=None]\u001b[A\n",
      "t:  46%|████▌     | 115/250 [00:06<00:08, 16.40it/s, now=None]\u001b[A\n",
      "t:  47%|████▋     | 117/250 [00:07<00:07, 16.71it/s, now=None]\u001b[A\n",
      "t:  48%|████▊     | 119/250 [00:07<00:07, 16.49it/s, now=None]\u001b[A\n",
      "t:  48%|████▊     | 121/250 [00:07<00:07, 16.80it/s, now=None]\u001b[A\n",
      "t:  49%|████▉     | 123/250 [00:07<00:07, 16.36it/s, now=None]\u001b[A\n",
      "t:  50%|█████     | 125/250 [00:07<00:07, 16.33it/s, now=None]\u001b[A\n",
      "t:  51%|█████     | 127/250 [00:07<00:07, 16.66it/s, now=None]\u001b[A\n",
      "t:  52%|█████▏    | 129/250 [00:07<00:07, 16.39it/s, now=None]\u001b[A\n",
      "t:  52%|█████▏    | 131/250 [00:07<00:07, 16.69it/s, now=None]\u001b[A\n",
      "t:  53%|█████▎    | 133/250 [00:08<00:06, 16.73it/s, now=None]\u001b[A\n",
      "t:  54%|█████▍    | 135/250 [00:08<00:06, 16.97it/s, now=None]\u001b[A\n",
      "t:  55%|█████▍    | 137/250 [00:08<00:06, 17.07it/s, now=None]\u001b[A\n",
      "t:  56%|█████▌    | 139/250 [00:08<00:06, 17.01it/s, now=None]\u001b[A\n",
      "t:  56%|█████▋    | 141/250 [00:08<00:06, 17.00it/s, now=None]\u001b[A\n",
      "t:  57%|█████▋    | 143/250 [00:08<00:06, 16.96it/s, now=None]\u001b[A\n",
      "t:  58%|█████▊    | 145/250 [00:08<00:06, 17.05it/s, now=None]\u001b[A\n",
      "t:  59%|█████▉    | 147/250 [00:08<00:06, 17.09it/s, now=None]\u001b[A\n",
      "t:  60%|█████▉    | 149/250 [00:08<00:05, 17.03it/s, now=None]\u001b[A\n",
      "t:  60%|██████    | 151/250 [00:09<00:05, 16.62it/s, now=None]\u001b[A\n",
      "t:  61%|██████    | 153/250 [00:09<00:05, 16.69it/s, now=None]\u001b[A\n",
      "t:  62%|██████▏   | 155/250 [00:09<00:05, 16.87it/s, now=None]\u001b[A\n",
      "t:  63%|██████▎   | 157/250 [00:09<00:05, 17.07it/s, now=None]\u001b[A\n",
      "t:  64%|██████▎   | 159/250 [00:09<00:05, 16.95it/s, now=None]\u001b[A\n",
      "t:  64%|██████▍   | 161/250 [00:09<00:05, 17.09it/s, now=None]\u001b[A\n",
      "t:  65%|██████▌   | 163/250 [00:09<00:05, 16.85it/s, now=None]\u001b[A\n",
      "t:  66%|██████▌   | 165/250 [00:09<00:05, 16.97it/s, now=None]\u001b[A\n",
      "t:  67%|██████▋   | 167/250 [00:10<00:04, 17.07it/s, now=None]\u001b[A\n",
      "t:  68%|██████▊   | 169/250 [00:10<00:04, 17.04it/s, now=None]\u001b[A\n",
      "t:  68%|██████▊   | 171/250 [00:10<00:04, 17.19it/s, now=None]\u001b[A\n",
      "t:  69%|██████▉   | 173/250 [00:10<00:04, 17.30it/s, now=None]\u001b[A\n",
      "t:  70%|███████   | 175/250 [00:10<00:04, 17.22it/s, now=None]\u001b[A\n",
      "t:  71%|███████   | 177/250 [00:10<00:04, 17.29it/s, now=None]\u001b[A\n",
      "t:  72%|███████▏  | 179/250 [00:10<00:04, 17.19it/s, now=None]\u001b[A\n",
      "t:  72%|███████▏  | 181/250 [00:10<00:04, 17.13it/s, now=None]\u001b[A\n",
      "t:  73%|███████▎  | 183/250 [00:10<00:03, 17.23it/s, now=None]\u001b[A\n",
      "t:  74%|███████▍  | 185/250 [00:11<00:03, 17.14it/s, now=None]\u001b[A\n",
      "t:  75%|███████▍  | 187/250 [00:11<00:03, 17.22it/s, now=None]\u001b[A\n",
      "t:  76%|███████▌  | 189/250 [00:11<00:03, 17.11it/s, now=None]\u001b[A\n",
      "t:  76%|███████▋  | 191/250 [00:11<00:03, 17.25it/s, now=None]\u001b[A\n",
      "t:  77%|███████▋  | 193/250 [00:11<00:03, 17.34it/s, now=None]\u001b[A\n",
      "t:  78%|███████▊  | 195/250 [00:11<00:03, 16.78it/s, now=None]\u001b[A\n",
      "t:  79%|███████▉  | 197/250 [00:11<00:03, 16.99it/s, now=None]\u001b[A\n",
      "t:  80%|███████▉  | 199/250 [00:11<00:03, 16.92it/s, now=None]\u001b[A\n",
      "t:  80%|████████  | 201/250 [00:12<00:02, 16.66it/s, now=None]\u001b[A\n",
      "t:  81%|████████  | 203/250 [00:12<00:02, 16.97it/s, now=None]\u001b[A\n",
      "t:  82%|████████▏ | 205/250 [00:12<00:02, 16.96it/s, now=None]\u001b[A\n",
      "t:  83%|████████▎ | 207/250 [00:12<00:02, 17.06it/s, now=None]\u001b[A\n",
      "t:  84%|████████▎ | 209/250 [00:12<00:02, 16.63it/s, now=None]\u001b[A\n",
      "t:  84%|████████▍ | 211/250 [00:12<00:02, 16.76it/s, now=None]\u001b[A\n",
      "t:  85%|████████▌ | 213/250 [00:12<00:02, 17.02it/s, now=None]\u001b[A\n",
      "t:  86%|████████▌ | 215/250 [00:12<00:02, 16.78it/s, now=None]\u001b[A\n",
      "t:  87%|████████▋ | 217/250 [00:12<00:01, 17.02it/s, now=None]\u001b[A\n",
      "t:  88%|████████▊ | 219/250 [00:13<00:01, 17.04it/s, now=None]\u001b[A\n",
      "t:  88%|████████▊ | 221/250 [00:13<00:01, 17.20it/s, now=None]\u001b[A\n",
      "t:  89%|████████▉ | 223/250 [00:13<00:01, 17.33it/s, now=None]\u001b[A\n",
      "t:  90%|█████████ | 225/250 [00:13<00:01, 17.30it/s, now=None]\u001b[A\n",
      "t:  91%|█████████ | 227/250 [00:13<00:01, 17.39it/s, now=None]\u001b[A\n",
      "t:  92%|█████████▏| 229/250 [00:13<00:01, 17.35it/s, now=None]\u001b[A\n",
      "t:  92%|█████████▏| 231/250 [00:13<00:01, 16.86it/s, now=None]\u001b[A\n",
      "t:  93%|█████████▎| 233/250 [00:13<00:00, 17.14it/s, now=None]\u001b[A\n",
      "t:  94%|█████████▍| 235/250 [00:14<00:00, 17.08it/s, now=None]\u001b[A\n",
      "t:  95%|█████████▍| 237/250 [00:14<00:00, 17.19it/s, now=None]\u001b[A\n",
      "t:  96%|█████████▌| 239/250 [00:14<00:00, 17.15it/s, now=None]\u001b[A\n",
      "t:  96%|█████████▋| 241/250 [00:14<00:00, 17.26it/s, now=None]\u001b[A\n",
      "t:  97%|█████████▋| 243/250 [00:14<00:00, 17.38it/s, now=None]\u001b[A\n",
      "t:  98%|█████████▊| 245/250 [00:14<00:00, 17.25it/s, now=None]\u001b[A\n",
      "t:  99%|█████████▉| 247/250 [00:14<00:00, 17.33it/s, now=None]\u001b[A\n",
      "t: 100%|█████████▉| 249/250 [00:14<00:00, 17.25it/s, now=None]\u001b[A\n",
      "t:   6%|▌         | 261/4525 [00:52<04:23, 16.18it/s, now=None][A"
     ]
    },
    {
     "name": "stdout",
     "output_type": "stream",
     "text": [
      "Moviepy - Done !\n",
      "Moviepy - video ready ani.mp4\n"
     ]
    }
   ],
   "source": [
    "out_path = 'ani.mp4'\n",
    "clip = VideoFileClip(video_path)\n",
    "subclip = clip.subclip(0, 10)\n",
    "\n",
    "track = tracks[0]\n",
    "\n",
    "x1s, y1s, x2s, y2s = track.get_bboxes()\n",
    "\n",
    "fx = lambda t: (x1s[t], x2s[t])\n",
    "fy = lambda t: (y1s[t], y2s[t])\n",
    "\n",
    "subclip = subclip.fx(moving_crop, fx=fx, fy=fy)\n",
    "\n",
    "subclip.write_videofile(out_path, fps=25)"
   ]
  },
  {
   "cell_type": "code",
   "execution_count": 23,
   "metadata": {},
   "outputs": [
    {
     "data": {
      "text/html": [
       "<video src=\"ani.mp4\" controls  width=\"160\" >\n",
       "      Your browser does not support the <code>video</code> element.\n",
       "    </video>"
      ],
      "text/plain": [
       "<IPython.core.display.Video object>"
      ]
     },
     "execution_count": 23,
     "metadata": {},
     "output_type": "execute_result"
    }
   ],
   "source": [
    "Video(out_path, width=160)"
   ]
  }
 ],
 "metadata": {
  "kernelspec": {
   "display_name": "Python 3.8.1 64-bit ('v3.8': venv)",
   "language": "python",
   "name": "python38164bitv38venv18d7852268ab49a4bd6e7f05b2131277"
  },
  "language_info": {
   "codemirror_mode": {
    "name": "ipython",
    "version": 3
   },
   "file_extension": ".py",
   "mimetype": "text/x-python",
   "name": "python",
   "nbconvert_exporter": "python",
   "pygments_lexer": "ipython3",
   "version": "3.8.1"
  }
 },
 "nbformat": 4,
 "nbformat_minor": 4
}
