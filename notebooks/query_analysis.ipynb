{
 "cells": [
  {
   "cell_type": "code",
   "execution_count": 1,
   "metadata": {},
   "outputs": [],
   "source": [
    "import os, re, glob\n",
    "import requests\n",
    "import pandas as pd\n",
    "from bs4 import BeautifulSoup"
   ]
  },
  {
   "cell_type": "code",
   "execution_count": 2,
   "metadata": {},
   "outputs": [],
   "source": [
    "# Confirm we are working in the correct directory.\n",
    "path = '/home/atom/emotion/' # change this to the correct path\n",
    "if os.getcwd().split(os.sep)[-1] != 'emotion':\n",
    "    os.chdir(path)\n",
    "assert os.getcwd().split(os.sep)[-1] == 'emotion', 'please set the correct path. Current: {0}'.format(os.getcwd())"
   ]
  },
  {
   "cell_type": "code",
   "execution_count": 3,
   "metadata": {},
   "outputs": [],
   "source": [
    "# read csv\n",
    "lsts = glob.glob('./notebooks/querylists/*.txt')\n",
    "\n",
    "df = pd.DataFrame(columns=['query', 'bday'])\n",
    "for lst in lsts:\n",
    "    df =  df.append(pd.read_csv(lst), sort=False)"
   ]
  },
  {
   "cell_type": "code",
   "execution_count": 4,
   "metadata": {},
   "outputs": [
    {
     "name": "stdout",
     "output_type": "stream",
     "text": "呉儀 Not found\n陈至立 Not found\n杨洋 Not found\n杨颖 Not found\n宗庆后 Not found\n周群飞 Not found\n柳青 Not found\n彭蕾 Not found\nВаленти́на_Ива́новна_Матвие́нко Not found\nЛюбо́вь_Эдуа́рдовна Not found\nКсе́ния_Анато́льевна_Собча́к Not found\nАлекса́ндр_Геннáдьевич_Легков Not found\nАлександр_Владимирович_Третьяков Not found\nДми́трий_Анато́льевич_Певцо́в Not found\nЕкатери́на_Алекса́ндровна_Кли́мова Not found\nСветла́на_Ви́кторовна_Хо́дченкова Not found\nА́нна_Бори́совна_Чипо́вская Not found\nОле́г_Влади́мирович_Дерипа́ска Not found\nМихаи́л_Мара́тович_Фри́дман Not found\nАлише́р_Бурха́нович_Усма́нов Not found\nЕле́на_Никола́евна_Бату́рина Not found\nЮлия_Александровна_Лемигова Not found\nケインブリッジ飛鳥 Not found\n八村ルイ Not found\n高橋直子 Not found\n榎本大輔 Not found\n内永ゆか子 Not found\n野中ともよ Not found\n新垣ゆい Not found\nMicheal_Prince Not found\n"
    }
   ],
   "source": [
    "def scrape(name, lang):\n",
    "    try:\n",
    "        l = ['en','fr','ja','zh', 'ru', 'ru']\n",
    "        if lang >= len(l):\n",
    "            print(name, 'Not found')\n",
    "        else:\n",
    "            if lang==5:\n",
    "                name = '{0},_{1}_{2}'.format(name.split('_'))\n",
    "            url = u'https://{0}.wikipedia.org/wiki/{1}'.format(l[lang], name)\n",
    "\n",
    "            page = requests.get(url)\n",
    "            soup = BeautifulSoup(page.content, 'html.parser')\n",
    "\n",
    "            txt = soup\n",
    "            reg = re.compile( r\"class=\\\"bday\\\".*>(\\d{4}-\\d{2}-\\d{2})<\" )\n",
    "            match = re.search(reg, str(txt))\n",
    "\n",
    "            if match:\n",
    "                df['bday'].iloc[idx] = match.groups(0)\n",
    "            else:\n",
    "                scrape(name, lang+1)\n",
    "    except: \n",
    "            scrape(name, lang+1)\n",
    "\n",
    "for idx, row in df.iterrows():\n",
    "    name = row['query'].replace(' ', '_')\n",
    "    scrape(name, 0)"
   ]
  },
  {
   "cell_type": "code",
   "execution_count": null,
   "metadata": {},
   "outputs": [],
   "source": []
  }
 ],
 "metadata": {
  "kernelspec": {
   "display_name": "Python 3",
   "language": "python",
   "name": "python3"
  },
  "language_info": {
   "codemirror_mode": {
    "name": "ipython",
    "version": 3
   },
   "file_extension": ".py",
   "mimetype": "text/x-python",
   "name": "python",
   "nbconvert_exporter": "python",
   "pygments_lexer": "ipython3",
   "version": "3.5.2"
  }
 },
 "nbformat": 4,
 "nbformat_minor": 4
}